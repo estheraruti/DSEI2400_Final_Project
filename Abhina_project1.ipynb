{
 "cells": [
  {
   "cell_type": "markdown",
   "id": "6b3ddfa4",
   "metadata": {},
   "source": [
    "# Automating websearch for the query term"
   ]
  },
  {
   "cell_type": "markdown",
   "id": "a9a9598f",
   "metadata": {},
   "source": [
    "Using the python file `screenshot_automation.py` for automated screenshot of the query results in Chrome for query term: \"Childhood cancer early diagnosis methods\". selenium.webdriver is used inorder to automate the query and the final screenshot if saved as screenshot.png."
   ]
  },
  {
   "cell_type": "code",
   "execution_count": 2,
   "id": "f0f26e95",
   "metadata": {
    "ExecuteTime": {
     "end_time": "2024-04-19T15:56:57.529331Z",
     "start_time": "2024-04-19T15:55:14.627836Z"
    }
   },
   "outputs": [],
   "source": [
    "%run screenshot_automation.py"
   ]
  },
  {
   "cell_type": "markdown",
   "id": "88a85ab2",
   "metadata": {},
   "source": [
    " Now, the obtained screenshot is used to scrape info using pytesseract library "
   ]
  },
  {
   "cell_type": "code",
   "execution_count": 3,
   "id": "bd01eb0b",
   "metadata": {
    "ExecuteTime": {
     "end_time": "2024-04-19T15:56:59.680680Z",
     "start_time": "2024-04-19T15:56:57.533390Z"
    }
   },
   "outputs": [
    {
     "name": "stdout",
     "output_type": "stream",
     "text": [
      "Requirement already satisfied: tesseract in /Library/Frameworks/Python.framework/Versions/3.11/lib/python3.11/site-packages (0.1.3)\r\n",
      "\r\n",
      "\u001b[1m[\u001b[0m\u001b[34;49mnotice\u001b[0m\u001b[1;39;49m]\u001b[0m\u001b[39;49m A new release of pip is available: \u001b[0m\u001b[31;49m23.2.1\u001b[0m\u001b[39;49m -> \u001b[0m\u001b[32;49m24.0\u001b[0m\r\n",
      "\u001b[1m[\u001b[0m\u001b[34;49mnotice\u001b[0m\u001b[1;39;49m]\u001b[0m\u001b[39;49m To update, run: \u001b[0m\u001b[32;49mpip3.11 install --upgrade pip\u001b[0m\r\n",
      "Note: you may need to restart the kernel to use updated packages.\n"
     ]
    }
   ],
   "source": [
    "pip install tesseract"
   ]
  },
  {
   "cell_type": "code",
   "execution_count": 4,
   "id": "482b2d147085e092",
   "metadata": {
    "ExecuteTime": {
     "end_time": "2024-04-19T15:57:01.525942Z",
     "start_time": "2024-04-19T15:56:59.682029Z"
    }
   },
   "outputs": [
    {
     "name": "stdout",
     "output_type": "stream",
     "text": [
      "Requirement already satisfied: mysql-connector-python in /Library/Frameworks/Python.framework/Versions/3.11/lib/python3.11/site-packages (8.3.0)\r\n",
      "\r\n",
      "\u001b[1m[\u001b[0m\u001b[34;49mnotice\u001b[0m\u001b[1;39;49m]\u001b[0m\u001b[39;49m A new release of pip is available: \u001b[0m\u001b[31;49m23.2.1\u001b[0m\u001b[39;49m -> \u001b[0m\u001b[32;49m24.0\u001b[0m\r\n",
      "\u001b[1m[\u001b[0m\u001b[34;49mnotice\u001b[0m\u001b[1;39;49m]\u001b[0m\u001b[39;49m To update, run: \u001b[0m\u001b[32;49mpip3.11 install --upgrade pip\u001b[0m\r\n",
      "Note: you may need to restart the kernel to use updated packages.\n"
     ]
    }
   ],
   "source": [
    "pip install mysql-connector-python"
   ]
  },
  {
   "cell_type": "code",
   "execution_count": 5,
   "id": "9664f405775daa5a",
   "metadata": {
    "ExecuteTime": {
     "end_time": "2024-04-19T15:57:02.613059Z",
     "start_time": "2024-04-19T15:57:01.527929Z"
    }
   },
   "outputs": [],
   "source": [
    "import cv2\n",
    "import pytesseract\n",
    "import matplotlib.pyplot as plt\n",
    "import os\n",
    "import re\n",
    "import pandas as pd\n",
    "import mysql.connector"
   ]
  },
  {
   "cell_type": "code",
   "execution_count": 6,
   "id": "11630bc4",
   "metadata": {
    "ExecuteTime": {
     "end_time": "2024-04-19T15:57:02.616308Z",
     "start_time": "2024-04-19T15:57:02.613837Z"
    }
   },
   "outputs": [],
   "source": [
    "# specify folder where photos are\n",
    "pic_folder = 'Web_Photos'\n",
    "\n",
    "# list all files in the folder\n",
    "pic_names = os.listdir(pic_folder)\n",
    "\n",
    "# specify folder for text\n",
    "text_folder = 'Extracted_Text'"
   ]
  },
  {
   "cell_type": "markdown",
   "id": "c394179351fb2b6c",
   "metadata": {},
   "source": [
    "## using image files to extract text"
   ]
  },
  {
   "cell_type": "code",
   "execution_count": 7,
   "id": "53dc71ab1f67f178",
   "metadata": {
    "ExecuteTime": {
     "end_time": "2024-04-19T15:57:38.499163Z",
     "start_time": "2024-04-19T15:57:02.616993Z"
    }
   },
   "outputs": [],
   "source": [
    "# need tesseract as environment variable in path\n",
    "for pic_name in pic_names:\n",
    "    image_path = os.path.join(pic_folder, pic_name)\n",
    "    image = cv2.imread(image_path)\n",
    "    gray_image = cv2.cvtColor(image, cv2.COLOR_BGR2GRAY)\n",
    "\n",
    "    # Apply thresholding\n",
    "    _, thresh_image = cv2.threshold(gray_image, 0, 255, cv2.THRESH_BINARY + cv2.THRESH_OTSU)\n",
    "    text = pytesseract.image_to_string(thresh_image)\n",
    "    txt_path = os.path.join(text_folder, pic_name.split('.')[0] + '.txt')\n",
    "    \n",
    "    with open(txt_path, 'w') as text_file:\n",
    "        text_file.write(text)\n",
    "    "
   ]
  },
  {
   "cell_type": "code",
   "execution_count": 8,
   "id": "58515820",
   "metadata": {
    "ExecuteTime": {
     "end_time": "2024-04-19T15:57:38.504146Z",
     "start_time": "2024-04-19T15:57:38.500889Z"
    }
   },
   "outputs": [
    {
     "name": "stdout",
     "output_type": "stream",
     "text": [
      "['yahoo.txt', 'google.txt', 'bing.txt', 'duckgo.txt', 'duckduckgo.txt']\n"
     ]
    }
   ],
   "source": [
    "# list all text files in the folder\n",
    "text_names = os.listdir(text_folder)\n",
    "print(text_names)"
   ]
  },
  {
   "cell_type": "code",
   "execution_count": 9,
   "id": "2df42246",
   "metadata": {
    "ExecuteTime": {
     "end_time": "2024-04-19T15:57:38.508766Z",
     "start_time": "2024-04-19T15:57:38.505068Z"
    }
   },
   "outputs": [],
   "source": [
    "# regex pattern: starts with h, however many letters in between, \":/\", however many letters in between up until there is a space\n",
    "url_dict = {}\n",
    "\n",
    "for text_name in text_names:\n",
    "    txt_path = os.path.join(text_folder, text_name.split('.')[0] + '.txt')\n",
    "    \n",
    "    with open(txt_path, 'r') as text_file:\n",
    "        file_contents = text_file.read()\n",
    "\n",
    "        if 'yahoo' in text_name:\n",
    "            urls = re.findall(r'www.[a-zA-Z]*[^\\s]*', file_contents)\n",
    "\n",
    "        else:\n",
    "            urls = re.findall(r'h[a-zA-Z]*:/[^\\s]*', file_contents)\n",
    "        #print(urls)\n",
    "\n",
    "    url_dict[text_name] = urls"
   ]
  },
  {
   "cell_type": "code",
   "execution_count": 10,
   "id": "83169e52",
   "metadata": {
    "ExecuteTime": {
     "end_time": "2024-04-19T15:57:38.512031Z",
     "start_time": "2024-04-19T15:57:38.509681Z"
    }
   },
   "outputs": [
    {
     "name": "stdout",
     "output_type": "stream",
     "text": [
      "yahoo.txt ['www.iccp-portal.org', 'www.paho.org', 'www.ncbi.nim.nih.gov', 'www.nature.com', 'www.thelancet.com', 'www.cancer.org']\n",
      "\n",
      "\n",
      "google.txt ['https://together.stjude.org', 'https:/Awww.cancer.org', 'https:/Awww.cancer.net', 'https:/Awww.ncbi.nim.nih.gov', 'https://iris.paho.org', 'https:/Awww.ncbi.nim.nih.gov', 'https:/Awww.cancercenter.com', 'https:/Awww.acco.org', 'https://my.clevelandclinic.org', 'https://Awww.paho.org', 'https:/Awww.advocatechildrenshospital.com', 'https://Awww.who.int', 'https://obmjopen.bmj.com', 'https:/Awww.cancer.org', 'https:/Awww.yalemedicine.org', 'https://bmchealthservres.biomedcentral.com', 'https:/Awww.cancer.gov', 'https:/Awww.who.int/cancer']\n",
      "\n",
      "\n",
      "bing.txt ['https:/Awww.nyp.org/pediatrics', 'https:/Avww.texaschildrens.org/cancer/treatment', 'https:/Avww.mskcc.org/cancer-care/experts', 'https:/Avww.azioinpractice.com', 'https:/Avww.ncbi.nim.nih.gov/pme/articles/PMC8651632', 'https:/Awww.iccp-portal.org/resources/early...', 'https:/Avww.aarp.org/cancernews/reducingcancer', 'https:/Avww.etsy.com', 'https://nyulangone.org', 'https:/Awww.nyp.org/pediatrics']\n",
      "\n",
      "\n",
      "duckgo.txt ['hups:/pubmed.ncbi.nim.nih.gov']\n",
      "\n",
      "\n",
      "duckduckgo.txt ['https://www.iccp-portal.org', 'https://www.cancer.org', 'https://my.clevelandclinic.org', 'https://www.paho.org', 'https:/Awww.who.int', 'https://iris.paho.org', 'https://iris.paho.org', 'https://qa.cancer.org', 'https://www.nature.com', 'https:/Awww.cancer.gov', 'https://www.cancer.org', 'hitps://bmchealthservres.biomedcentral.com', 'hitps://together.stjude.org', 'hittps://ascopubs.org', 'https://pubmed.ncbi.nim.nih.gov', 'https:/Awww.ncbi.nim.nih.gov', 'hittps://www.nature.com', 'https://bmjopen.bmj.com', 'https:/Awww.ncbi.nim.nih.gov', 'https://journals.sagepub.com', 'https://www.mdpi.com', 'https://pubmed.ncbi.nim.nih.gov', 'https://Awww.sciencedaily.com', 'https://jeccr.biomedcentral.com', 'https://link.springer.com']\n",
      "\n"
     ]
    }
   ],
   "source": [
    "\n",
    "for key, value in url_dict.items():\n",
    "    print(key, value)\n",
    "    print(\"\\n\")"
   ]
  },
  {
   "cell_type": "code",
   "execution_count": 11,
   "id": "87580b752b095026",
   "metadata": {
    "ExecuteTime": {
     "end_time": "2024-04-19T15:57:38.517506Z",
     "start_time": "2024-04-19T15:57:38.514701Z"
    }
   },
   "outputs": [
    {
     "name": "stdout",
     "output_type": "stream",
     "text": [
      "yahoo.txt ['www.iccp-portal.org', 'www.paho.org', 'www.ncbi.nim.nih.gov', 'www.nature.com', 'www.thelancet.com', 'www.cancer.org']\n",
      "\n",
      "\n",
      "google.txt ['https://together.stjude.org', 'https://www.cancer.org', 'https://www.cancer.net', 'https://www.ncbi.nim.nih.gov', 'https://iris.paho.org', 'https://www.ncbi.nim.nih.gov', 'https://www.cancercenter.com', 'https://www.acco.org', 'https://my.clevelandclinic.org', 'https://Awww.paho.org', 'https://www.advocatechildrenshospital.com', 'https://Awww.who.int', 'https://obmjopen.bmj.com', 'https://www.cancer.org', 'https://www.yalemedicine.org', 'https://bmchealthservres.biomedcentral.com', 'https://www.cancer.gov', 'https://www.who.int/cancer']\n",
      "\n",
      "\n",
      "bing.txt ['https://www.nyp.org/pediatrics', 'https://www.texaschildrens.org/cancer/treatment', 'https://www.mskcc.org/cancer-care/experts', 'https://www.azioinpractice.com', 'https://www.ncbi.nim.nih.gov/pme/articles/PMC8651632', 'https://www.iccp-portal.org/resources/early...', 'https://www.aarp.org/cancernews/reducingcancer', 'https://www.etsy.com', 'https://nyulangone.org', 'https://www.nyp.org/pediatrics']\n",
      "\n",
      "\n",
      "duckgo.txt ['https:/pubmed.ncbi.nim.nih.gov']\n",
      "\n",
      "\n",
      "duckduckgo.txt ['https://www.iccp-portal.org', 'https://www.cancer.org', 'https://my.clevelandclinic.org', 'https://www.paho.org', 'https://www.who.int', 'https://iris.paho.org', 'https://iris.paho.org', 'https://qa.cancer.org', 'https://www.nature.com', 'https://www.cancer.gov', 'https://www.cancer.org', 'https://bmchealthservres.biomedcentral.com', 'https://together.stjude.org', 'https://ascopubs.org', 'https://pubmed.ncbi.nim.nih.gov', 'https://www.ncbi.nim.nih.gov', 'https://www.nature.com', 'https://bmjopen.bmj.com', 'https://www.ncbi.nim.nih.gov', 'https://journals.sagepub.com', 'https://www.mdpi.com', 'https://pubmed.ncbi.nim.nih.gov', 'https://Awww.sciencedaily.com', 'https://jeccr.biomedcentral.com', 'https://link.springer.com']\n",
      "\n"
     ]
    }
   ],
   "source": [
    "for k, v in url_dict.items():\n",
    "    for i in range(len(v)):\n",
    "        v[i] = re.sub(r'^h[a-z]*:', 'https:', v[i])\n",
    "        v[i] = re.sub(r':/A\\w\\w\\w\\.', '://www.', v[i])\n",
    "\n",
    "\n",
    "for key, value in url_dict.items():\n",
    "    print(key, value)\n",
    "    print(\"\\n\")"
   ]
  },
  {
   "cell_type": "markdown",
   "id": "4e0799d6ca4645e3",
   "metadata": {},
   "source": [
    "Add the frequency search term count to dataframe."
   ]
  },
  {
   "cell_type": "code",
   "execution_count": 12,
   "id": "5ba9eb328ea37b02",
   "metadata": {
    "ExecuteTime": {
     "end_time": "2024-04-19T15:57:38.521410Z",
     "start_time": "2024-04-19T15:57:38.518312Z"
    }
   },
   "outputs": [],
   "source": [
    "# add dictionary of urls into data frame\n",
    "from inserting_urls_into_dataframe import separate_url"
   ]
  },
  {
   "cell_type": "code",
   "execution_count": 13,
   "id": "273ee70a1f175fa",
   "metadata": {
    "ExecuteTime": {
     "end_time": "2024-04-19T15:57:38.531784Z",
     "start_time": "2024-04-19T15:57:38.522198Z"
    }
   },
   "outputs": [],
   "source": [
    "df_search = separate_url(url_dict)"
   ]
  },
  {
   "cell_type": "code",
   "execution_count": 14,
   "id": "8aece8fdea2c64ca",
   "metadata": {
    "ExecuteTime": {
     "end_time": "2024-04-19T15:57:38.540414Z",
     "start_time": "2024-04-19T15:57:38.532551Z"
    }
   },
   "outputs": [
    {
     "data": {
      "text/html": [
       "<div>\n",
       "<style scoped>\n",
       "    .dataframe tbody tr th:only-of-type {\n",
       "        vertical-align: middle;\n",
       "    }\n",
       "\n",
       "    .dataframe tbody tr th {\n",
       "        vertical-align: top;\n",
       "    }\n",
       "\n",
       "    .dataframe thead th {\n",
       "        text-align: right;\n",
       "    }\n",
       "</style>\n",
       "<table border=\"1\" class=\"dataframe\">\n",
       "  <thead>\n",
       "    <tr style=\"text-align: right;\">\n",
       "      <th></th>\n",
       "      <th>search_engine</th>\n",
       "      <th>urls</th>\n",
       "    </tr>\n",
       "  </thead>\n",
       "  <tbody>\n",
       "    <tr>\n",
       "      <th>0</th>\n",
       "      <td>yahoo.txt</td>\n",
       "      <td>www.iccp-portal.org</td>\n",
       "    </tr>\n",
       "    <tr>\n",
       "      <th>1</th>\n",
       "      <td>yahoo.txt</td>\n",
       "      <td>www.paho.org</td>\n",
       "    </tr>\n",
       "    <tr>\n",
       "      <th>2</th>\n",
       "      <td>yahoo.txt</td>\n",
       "      <td>www.ncbi.nim.nih.gov</td>\n",
       "    </tr>\n",
       "    <tr>\n",
       "      <th>3</th>\n",
       "      <td>yahoo.txt</td>\n",
       "      <td>www.nature.com</td>\n",
       "    </tr>\n",
       "    <tr>\n",
       "      <th>4</th>\n",
       "      <td>yahoo.txt</td>\n",
       "      <td>www.thelancet.com</td>\n",
       "    </tr>\n",
       "  </tbody>\n",
       "</table>\n",
       "</div>"
      ],
      "text/plain": [
       "  search_engine                  urls\n",
       "0     yahoo.txt   www.iccp-portal.org\n",
       "1     yahoo.txt          www.paho.org\n",
       "2     yahoo.txt  www.ncbi.nim.nih.gov\n",
       "3     yahoo.txt        www.nature.com\n",
       "4     yahoo.txt     www.thelancet.com"
      ]
     },
     "execution_count": 14,
     "metadata": {},
     "output_type": "execute_result"
    }
   ],
   "source": [
    "df_search.head()"
   ]
  },
  {
   "cell_type": "code",
   "execution_count": 15,
   "id": "a4077020fe511a3f",
   "metadata": {
    "ExecuteTime": {
     "end_time": "2024-04-19T15:57:38.549599Z",
     "start_time": "2024-04-19T15:57:38.541222Z"
    }
   },
   "outputs": [
    {
     "name": "stdout",
     "output_type": "stream",
     "text": [
      "<class 'pandas.core.frame.DataFrame'>\n",
      "RangeIndex: 60 entries, 0 to 59\n",
      "Data columns (total 2 columns):\n",
      " #   Column         Non-Null Count  Dtype \n",
      "---  ------         --------------  ----- \n",
      " 0   search_engine  60 non-null     object\n",
      " 1   urls           60 non-null     object\n",
      "dtypes: object(2)\n",
      "memory usage: 1.1+ KB\n"
     ]
    }
   ],
   "source": [
    "df_search.info()"
   ]
  },
  {
   "cell_type": "code",
   "execution_count": 16,
   "id": "fc32a29ebc92cb7e",
   "metadata": {
    "ExecuteTime": {
     "end_time": "2024-04-19T15:57:38.553177Z",
     "start_time": "2024-04-19T15:57:38.550644Z"
    }
   },
   "outputs": [],
   "source": [
    "# cleaning the search_engine names\n",
    "df_search['search_engine'] = df_search['search_engine'].str.replace('.txt','')"
   ]
  },
  {
   "cell_type": "code",
   "execution_count": 17,
   "id": "4c70bead609f2247",
   "metadata": {
    "ExecuteTime": {
     "end_time": "2024-04-19T15:57:38.557920Z",
     "start_time": "2024-04-19T15:57:38.553786Z"
    }
   },
   "outputs": [
    {
     "data": {
      "text/html": [
       "<div>\n",
       "<style scoped>\n",
       "    .dataframe tbody tr th:only-of-type {\n",
       "        vertical-align: middle;\n",
       "    }\n",
       "\n",
       "    .dataframe tbody tr th {\n",
       "        vertical-align: top;\n",
       "    }\n",
       "\n",
       "    .dataframe thead th {\n",
       "        text-align: right;\n",
       "    }\n",
       "</style>\n",
       "<table border=\"1\" class=\"dataframe\">\n",
       "  <thead>\n",
       "    <tr style=\"text-align: right;\">\n",
       "      <th></th>\n",
       "      <th>search_engine</th>\n",
       "      <th>urls</th>\n",
       "    </tr>\n",
       "  </thead>\n",
       "  <tbody>\n",
       "    <tr>\n",
       "      <th>0</th>\n",
       "      <td>yahoo</td>\n",
       "      <td>www.iccp-portal.org</td>\n",
       "    </tr>\n",
       "    <tr>\n",
       "      <th>1</th>\n",
       "      <td>yahoo</td>\n",
       "      <td>www.paho.org</td>\n",
       "    </tr>\n",
       "    <tr>\n",
       "      <th>2</th>\n",
       "      <td>yahoo</td>\n",
       "      <td>www.ncbi.nim.nih.gov</td>\n",
       "    </tr>\n",
       "    <tr>\n",
       "      <th>3</th>\n",
       "      <td>yahoo</td>\n",
       "      <td>www.nature.com</td>\n",
       "    </tr>\n",
       "    <tr>\n",
       "      <th>4</th>\n",
       "      <td>yahoo</td>\n",
       "      <td>www.thelancet.com</td>\n",
       "    </tr>\n",
       "  </tbody>\n",
       "</table>\n",
       "</div>"
      ],
      "text/plain": [
       "  search_engine                  urls\n",
       "0         yahoo   www.iccp-portal.org\n",
       "1         yahoo          www.paho.org\n",
       "2         yahoo  www.ncbi.nim.nih.gov\n",
       "3         yahoo        www.nature.com\n",
       "4         yahoo     www.thelancet.com"
      ]
     },
     "execution_count": 17,
     "metadata": {},
     "output_type": "execute_result"
    }
   ],
   "source": [
    "# Converting the datatype of urls to string\n",
    "#df_search['urls'] = df_search['urls'].astype(str)\n",
    "df_search.head()"
   ]
  },
  {
   "cell_type": "markdown",
   "id": "e87e033f213c6d",
   "metadata": {},
   "source": [
    "Count the frequency of each search term in the URL"
   ]
  },
  {
   "cell_type": "code",
   "execution_count": 18,
   "id": "c93a8d2dce71543a",
   "metadata": {
    "ExecuteTime": {
     "end_time": "2024-04-19T15:57:38.594176Z",
     "start_time": "2024-04-19T15:57:38.559207Z"
    }
   },
   "outputs": [],
   "source": [
    "from getting_count_of_searchterms import term_counts\n",
    "df_search = term_counts(df_search)\n"
   ]
  },
  {
   "cell_type": "code",
   "execution_count": 27,
   "id": "c501cede1a324337",
   "metadata": {
    "ExecuteTime": {
     "end_time": "2024-04-19T16:27:16.727336Z",
     "start_time": "2024-04-19T16:27:16.698067Z"
    }
   },
   "outputs": [
    {
     "data": {
      "text/html": [
       "<div>\n",
       "<style scoped>\n",
       "    .dataframe tbody tr th:only-of-type {\n",
       "        vertical-align: middle;\n",
       "    }\n",
       "\n",
       "    .dataframe tbody tr th {\n",
       "        vertical-align: top;\n",
       "    }\n",
       "\n",
       "    .dataframe thead th {\n",
       "        text-align: right;\n",
       "    }\n",
       "</style>\n",
       "<table border=\"1\" class=\"dataframe\">\n",
       "  <thead>\n",
       "    <tr style=\"text-align: right;\">\n",
       "      <th></th>\n",
       "      <th>search_engine</th>\n",
       "      <th>urls</th>\n",
       "      <th>term_count_Childhood</th>\n",
       "      <th>term_count_cancer</th>\n",
       "      <th>term_count_early</th>\n",
       "      <th>term_count_diagnosis</th>\n",
       "      <th>term_count_methods</th>\n",
       "    </tr>\n",
       "  </thead>\n",
       "  <tbody>\n",
       "    <tr>\n",
       "      <th>0</th>\n",
       "      <td>yahoo</td>\n",
       "      <td>www.iccp-portal.org</td>\n",
       "      <td>0</td>\n",
       "      <td>0</td>\n",
       "      <td>0</td>\n",
       "      <td>0</td>\n",
       "      <td>0</td>\n",
       "    </tr>\n",
       "    <tr>\n",
       "      <th>1</th>\n",
       "      <td>yahoo</td>\n",
       "      <td>www.paho.org</td>\n",
       "      <td>0</td>\n",
       "      <td>0</td>\n",
       "      <td>0</td>\n",
       "      <td>0</td>\n",
       "      <td>0</td>\n",
       "    </tr>\n",
       "    <tr>\n",
       "      <th>2</th>\n",
       "      <td>yahoo</td>\n",
       "      <td>www.ncbi.nim.nih.gov</td>\n",
       "      <td>0</td>\n",
       "      <td>0</td>\n",
       "      <td>0</td>\n",
       "      <td>0</td>\n",
       "      <td>0</td>\n",
       "    </tr>\n",
       "    <tr>\n",
       "      <th>3</th>\n",
       "      <td>yahoo</td>\n",
       "      <td>www.nature.com</td>\n",
       "      <td>0</td>\n",
       "      <td>0</td>\n",
       "      <td>0</td>\n",
       "      <td>0</td>\n",
       "      <td>0</td>\n",
       "    </tr>\n",
       "    <tr>\n",
       "      <th>4</th>\n",
       "      <td>yahoo</td>\n",
       "      <td>www.thelancet.com</td>\n",
       "      <td>0</td>\n",
       "      <td>0</td>\n",
       "      <td>0</td>\n",
       "      <td>0</td>\n",
       "      <td>0</td>\n",
       "    </tr>\n",
       "  </tbody>\n",
       "</table>\n",
       "</div>"
      ],
      "text/plain": [
       "  search_engine                  urls  term_count_Childhood  \\\n",
       "0         yahoo   www.iccp-portal.org                     0   \n",
       "1         yahoo          www.paho.org                     0   \n",
       "2         yahoo  www.ncbi.nim.nih.gov                     0   \n",
       "3         yahoo        www.nature.com                     0   \n",
       "4         yahoo     www.thelancet.com                     0   \n",
       "\n",
       "   term_count_cancer  term_count_early  term_count_diagnosis  \\\n",
       "0                  0                 0                     0   \n",
       "1                  0                 0                     0   \n",
       "2                  0                 0                     0   \n",
       "3                  0                 0                     0   \n",
       "4                  0                 0                     0   \n",
       "\n",
       "   term_count_methods  \n",
       "0                   0  \n",
       "1                   0  \n",
       "2                   0  \n",
       "3                   0  \n",
       "4                   0  "
      ]
     },
     "execution_count": 27,
     "metadata": {},
     "output_type": "execute_result"
    }
   ],
   "source": [
    "df_search.head()"
   ]
  },
  {
   "cell_type": "markdown",
   "id": "c3b9281b842b4c23",
   "metadata": {},
   "source": [
    "Connecting to the Mysql database"
   ]
  },
  {
   "cell_type": "code",
   "execution_count": 24,
   "id": "17921497",
   "metadata": {
    "ExecuteTime": {
     "end_time": "2024-04-19T16:07:32.420323Z",
     "start_time": "2024-04-19T16:07:24.556613Z"
    }
   },
   "outputs": [
    {
     "name": "stdout",
     "output_type": "stream",
     "text": [
      "<mysql.connector.connection_cext.CMySQLConnection object at 0x135f0be50>\n"
     ]
    }
   ],
   "source": [
    "import mysql.connector\n",
    "\n",
    "mydb = mysql.connector.connect(\n",
    "  host=\"localhost\",\n",
    "  user=input(\"Enter your database username: \"),\n",
    "  password=input(\"Enter your database password: \"),\n",
    "  database = \"MY_CUSTOM_BOT\"\n",
    ")\n",
    "\n",
    "print(mydb)"
   ]
  },
  {
   "cell_type": "code",
   "execution_count": 31,
   "id": "cdf5e7cf",
   "metadata": {
    "ExecuteTime": {
     "end_time": "2024-04-19T16:40:30.607660Z",
     "start_time": "2024-04-19T16:40:30.575847Z"
    }
   },
   "outputs": [],
   "source": [
    "mycursor = mydb.cursor()\n",
    "\n",
    "mycursor.execute(\"CREATE TABLE search_data (search_engine VARCHAR(255), urls VARCHAR(255),term_count_Childhood INT ,term_count_cancer INT ,term_count_early INT ,term_count_diagnosis INT ,term_count_methods INT )\")\n",
    "\n"
   ]
  },
  {
   "cell_type": "code",
   "execution_count": null,
   "id": "2aa7d3ba",
   "metadata": {
    "ExecuteTime": {
     "end_time": "2024-04-19T16:40:32.978048Z",
     "start_time": "2024-04-19T16:40:32.947049Z"
    }
   },
   "outputs": [],
   "source": []
  },
  {
   "cell_type": "code",
   "execution_count": null,
   "id": "fcdbe73c",
   "metadata": {
    "ExecuteTime": {
     "end_time": "2024-04-19T15:57:52.025127Z",
     "start_time": "2024-04-19T15:57:52.025045Z"
    }
   },
   "outputs": [],
   "source": []
  },
  {
   "cell_type": "code",
   "execution_count": null,
   "id": "3878d645",
   "metadata": {},
   "outputs": [],
   "source": []
  },
  {
   "cell_type": "code",
   "execution_count": null,
   "id": "ae001fee",
   "metadata": {},
   "outputs": [],
   "source": []
  },
  {
   "cell_type": "code",
   "execution_count": null,
   "id": "8ea650e1",
   "metadata": {},
   "outputs": [],
   "source": []
  }
 ],
 "metadata": {
  "kernelspec": {
   "display_name": "Python 3 (ipykernel)",
   "language": "python",
   "name": "python3"
  },
  "language_info": {
   "codemirror_mode": {
    "name": "ipython",
    "version": 3
   },
   "file_extension": ".py",
   "mimetype": "text/x-python",
   "name": "python",
   "nbconvert_exporter": "python",
   "pygments_lexer": "ipython3",
   "version": "3.11.5"
  }
 },
 "nbformat": 4,
 "nbformat_minor": 5
}
