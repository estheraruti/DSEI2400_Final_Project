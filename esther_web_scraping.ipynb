{
 "cells": [
  {
   "cell_type": "markdown",
   "id": "6b3ddfa4",
   "metadata": {},
   "source": [
    "# Automating websearch for the query term"
   ]
  },
  {
   "cell_type": "markdown",
   "id": "a9a9598f",
   "metadata": {},
   "source": [
    "Using the python file `screenshot_automation.py` for automated screenshot of the query results in Chrome for query term: \"Childhood cancer early diagnosis methods\". selenium.webdriver is used inorder to automate the query and the final screenshot if saved as screenshot.png."
   ]
  },
  {
   "cell_type": "code",
   "execution_count": 1,
   "id": "f0f26e95",
   "metadata": {
    "ExecuteTime": {
     "end_time": "2024-04-12T13:20:51.739694Z",
     "start_time": "2024-04-12T13:19:08.672901Z"
    }
   },
   "outputs": [],
   "source": [
    "%run screenshot_automation.py"
   ]
  },
  {
   "cell_type": "markdown",
   "id": "88a85ab2",
   "metadata": {},
   "source": [
    " Now, the obtained screenshot is used to scrape info using pytesseract library "
   ]
  },
  {
   "cell_type": "code",
   "execution_count": 2,
   "id": "bee2a3a1",
   "metadata": {
    "ExecuteTime": {
     "end_time": "2024-04-12T13:21:08.905372Z",
     "start_time": "2024-04-12T13:21:07.001768Z"
    }
   },
   "outputs": [],
   "source": [
    "#pip install mysql-connector-python"
   ]
  },
  {
   "cell_type": "code",
   "execution_count": 3,
   "id": "11630bc4",
   "metadata": {
    "ExecuteTime": {
     "end_time": "2024-04-12T13:21:08.910437Z",
     "start_time": "2024-04-12T13:21:08.907191Z"
    }
   },
   "outputs": [],
   "source": [
    "import cv2\n",
    "import pytesseract\n",
    "import matplotlib.pyplot as plt\n",
    "import os\n",
    "import re\n",
    "import pandas as pd\n",
    "import mysql.connector"
   ]
  },
  {
   "cell_type": "code",
   "execution_count": 4,
   "id": "4577af9b",
   "metadata": {
    "ExecuteTime": {
     "end_time": "2024-04-12T13:21:09.073905Z",
     "start_time": "2024-04-12T13:21:09.071085Z"
    }
   },
   "outputs": [],
   "source": [
    "# specify folder where photos are\n",
    "pic_folder = 'Web_Photos'\n",
    "\n",
    "# list all files in the folder\n",
    "pic_names = os.listdir(pic_folder)\n",
    "\n",
    "# specify folder for text\n",
    "text_folder = 'Extracted_Text'"
   ]
  },
  {
   "cell_type": "markdown",
   "id": "e646f5e408ed59c1",
   "metadata": {
    "collapsed": false
   },
   "source": [
    "### Extracting Text From Picture and Adding it to Text File"
   ]
  },
  {
   "cell_type": "code",
   "execution_count": 5,
   "id": "638dd608e82ec9d7",
   "metadata": {
    "ExecuteTime": {
     "end_time": "2024-04-12T13:21:47.298098Z",
     "start_time": "2024-04-12T13:21:10.403330Z"
    },
    "collapsed": false
   },
   "outputs": [],
   "source": [
    "# need tesseract as environment variable in path before running this\n",
    "\n",
    "for pic_name in pic_names:\n",
    "    image_path = os.path.join(pic_folder, pic_name)\n",
    "    # read in image\n",
    "    image = cv2.imread(image_path)\n",
    "\n",
    "    # turning image into grayscale\n",
    "    #gray_image = cv2.cvtColor(image, cv2.COLOR_BGR2GRAY)\n",
    "\n",
    "    '''\n",
    "    # Apply thresholding\n",
    "    _, thresh_image = cv2.threshold(gray_image, 0, 255, cv2.THRESH_BINARY + cv2.THRESH_OTSU)\n",
    "    '''\n",
    "    # extract text from image\n",
    "    text = pytesseract.image_to_string(image)\n",
    "    txt_path = os.path.join(text_folder, pic_name.split('.')[0] + '.txt')\n",
    "    \n",
    "    with open(txt_path, 'w') as text_file:\n",
    "        text_file.write(text)\n",
    "    "
   ]
  },
  {
   "cell_type": "code",
   "execution_count": 6,
   "id": "e3cb423c",
   "metadata": {
    "ExecuteTime": {
     "end_time": "2024-04-12T13:21:47.304190Z",
     "start_time": "2024-04-12T13:21:47.300431Z"
    }
   },
   "outputs": [
    {
     "name": "stdout",
     "output_type": "stream",
     "text": [
      "['bing.txt', 'duckduckgo.txt', 'google.txt', 'yahoo.txt']\n"
     ]
    }
   ],
   "source": [
    "# list all text files in the folder\n",
    "text_names = os.listdir(text_folder)\n",
    "print(text_names)"
   ]
  },
  {
   "cell_type": "markdown",
   "id": "3c64c3c2",
   "metadata": {},
   "source": [
    "### Finding all URLs from each search engine and adding them to a dictionary."
   ]
  },
  {
   "cell_type": "code",
   "execution_count": 7,
   "id": "de2371ee22713c8f",
   "metadata": {
    "ExecuteTime": {
     "end_time": "2024-04-12T13:45:04.445152Z",
     "start_time": "2024-04-12T13:45:04.430700Z"
    },
    "collapsed": false
   },
   "outputs": [],
   "source": [
    "# regex pattern: starts with h, however many letters in between, \":/\", howevermany letters in between up until there is a space\n",
    "url_dict = {}\n",
    "\n",
    "for text_name in text_names:\n",
    "    txt_path = os.path.join(text_folder, text_name.split('.')[0] + '.txt')\n",
    "    \n",
    "    with open(txt_path, 'r') as text_file:\n",
    "        file_contents = text_file.read()\n",
    "\n",
    "        if 'yahoo' in text_name:\n",
    "            urls = re.findall(r'www.[a-zA-Z]*[^\\s]*', file_contents)\n",
    "\n",
    "        else:\n",
    "            urls = re.findall(r'h[a-zA-Z]*:/[^\\s]*', file_contents)\n",
    "        #print(urls)\n",
    "\n",
    "    url_dict[text_name] = urls"
   ]
  },
  {
   "cell_type": "code",
   "execution_count": 8,
   "id": "189ba71231afd6c2",
   "metadata": {
    "ExecuteTime": {
     "end_time": "2024-04-12T13:45:06.292339Z",
     "start_time": "2024-04-12T13:45:06.289346Z"
    },
    "collapsed": false
   },
   "outputs": [
    {
     "name": "stdout",
     "output_type": "stream",
     "text": [
      "bing.txt ['https:/www.nyp.orgipediatrics', 'https:/Awww', 'https:/Awww.ncbi.nim.nih.gov/pmc/articles/PMC', 'https:/www.mskcc.org/cancer-care/experts', 'https:/www.texaschildrens.org/canceritreatment', 'https://cancer.montefioreeinstein.org/chiara_story/cancer', 'https:/www.nyp.orgipediatrics']\n",
      "\n",
      "\n",
      "duckduckgo.txt ['hitps://www.iccp-portal.org', 'hups:/www.cancerorg', 'heps:/www.nebinim.nih.gov', 'https:/www.uptodate.com', 'hutps:/pmchealthservres.biomedcentral.com', 'hutps://www.paho.org', 'https://www.nature.com', 'hups://iris', 'hups://iris', 'hutps:/www.cancerorg', 'hutps:/www.2afp.org', 'hutps://qa.cancerorg', 'hutps://pubmed.ncbi.nim.nih.gov', 'heps:/www.nebi.nim.nih.gov', 'hups://www.researchgate.net', 'hups:/www.ncbi.nim.nih.gov', 'hitps://journals.', 'https:/bmjopen.bmj.com', 'hups://pubmed.ncbi.nim.nih.gov', 'https://www.ncbinim.nih.gov', 'hutps:/jeccrbiomedcentral.com', 'hups://ink.springer.com']\n",
      "\n",
      "\n",
      "google.txt ['https:/together.stjude.org', 'hitps:/iwwnv.cancercenter.com', 'hitps:/ipubmed.nebi.nim', 'hitps:/iwww-paho', 'hiios:/nwwnv.advocatechildrenshospital.com', 'hittps:/www.who.int', 'hitps:/omjopen.bmj.com', 'https:/Avww.yalemedicine.org', 'hitps:/bmcheatthservres.biomedcentral.com', 'https:/Awww.cancer.gov', 'https:/www.stjude.org']\n",
      "\n",
      "\n",
      "yahoo.txt ['www.icep-portal.org', 'www.nebi.nim.nih.gov', 'www_paho.org', 'www.nature.com', 'www:thelancet.com', 'www.cancer.org']\n",
      "\n",
      "\n"
     ]
    }
   ],
   "source": [
    "# viewing the dictionary\n",
    "for key, value in url_dict.items():\n",
    "    print(key, value)\n",
    "    print(\"\\n\")"
   ]
  },
  {
   "cell_type": "markdown",
   "id": "9bd365a3",
   "metadata": {},
   "source": [
    "### Cleaning up the incorrectly spelled URLs."
   ]
  },
  {
   "cell_type": "code",
   "execution_count": 9,
   "id": "87f49dab5a3fe7d5",
   "metadata": {
    "ExecuteTime": {
     "end_time": "2024-04-12T13:45:07.624438Z",
     "start_time": "2024-04-12T13:45:07.604065Z"
    },
    "collapsed": false
   },
   "outputs": [
    {
     "name": "stdout",
     "output_type": "stream",
     "text": [
      "bing.txt ['https:/www.nyp.orgipediatrics', 'https:/Awww', 'https://www.ncbi.nim.nih.gov/pmc/articles/PMC', 'https:/www.mskcc.org/cancer-care/experts', 'https:/www.texaschildrens.org/canceritreatment', 'https://cancer.montefioreeinstein.org/chiara_story/cancer', 'https:/www.nyp.orgipediatrics']\n",
      "\n",
      "\n",
      "duckduckgo.txt ['https://www.iccp-portal.org', 'https:/www.cancerorg', 'https:/www.nebinim.nih.gov', 'https:/www.uptodate.com', 'https:/pmchealthservres.biomedcentral.com', 'https://www.paho.org', 'https://www.nature.com', 'https://iris', 'https://iris', 'https:/www.cancerorg', 'https:/www.2afp.org', 'https://qa.cancerorg', 'https://pubmed.ncbi.nim.nih.gov', 'https:/www.nebi.nim.nih.gov', 'https://www.researchgate.net', 'https:/www.ncbi.nim.nih.gov', 'https://journals.', 'https:/bmjopen.bmj.com', 'https://pubmed.ncbi.nim.nih.gov', 'https://www.ncbinim.nih.gov', 'https:/jeccrbiomedcentral.com', 'https://ink.springer.com']\n",
      "\n",
      "\n",
      "google.txt ['https:/together.stjude.org', 'https:/iwwnv.cancercenter.com', 'https:/ipubmed.nebi.nim', 'https:/iwww-paho', 'https:/nwwnv.advocatechildrenshospital.com', 'https:/www.who.int', 'https:/omjopen.bmj.com', 'https://www.yalemedicine.org', 'https:/bmcheatthservres.biomedcentral.com', 'https://www.cancer.gov', 'https:/www.stjude.org']\n",
      "\n",
      "\n",
      "yahoo.txt ['www.icep-portal.org', 'www.nebi.nim.nih.gov', 'www_paho.org', 'www.nature.com', 'www:thelancet.com', 'www.cancer.org']\n",
      "\n",
      "\n"
     ]
    }
   ],
   "source": [
    "# cleaning up the URLs\n",
    "for k, v in url_dict.items():\n",
    "    for i in range(len(v)):\n",
    "        v[i] = re.sub(r'^h[a-z]*:', 'https:', v[i])\n",
    "        v[i] = re.sub(r':/A\\w\\w\\w\\.', '://www.', v[i])\n",
    "\n",
    "\n",
    "# viewing them\n",
    "for key, value in url_dict.items():\n",
    "    print(key, value)\n",
    "    print(\"\\n\")"
   ]
  },
  {
   "cell_type": "markdown",
   "id": "ae49fc4d",
   "metadata": {},
   "source": [
    "### Run the separating URLs .py file to create a Data Frame similar to the MySQL table"
   ]
  },
  {
   "cell_type": "code",
   "execution_count": 15,
   "id": "dab2b274",
   "metadata": {},
   "outputs": [],
   "source": [
    "from separating_urls import separate_url\n",
    "df_search = separate_url(url_dict)"
   ]
  },
  {
   "cell_type": "code",
   "execution_count": 20,
   "id": "481787a5",
   "metadata": {},
   "outputs": [
    {
     "data": {
      "text/html": [
       "<div>\n",
       "<style scoped>\n",
       "    .dataframe tbody tr th:only-of-type {\n",
       "        vertical-align: middle;\n",
       "    }\n",
       "\n",
       "    .dataframe tbody tr th {\n",
       "        vertical-align: top;\n",
       "    }\n",
       "\n",
       "    .dataframe thead th {\n",
       "        text-align: right;\n",
       "    }\n",
       "</style>\n",
       "<table border=\"1\" class=\"dataframe\">\n",
       "  <thead>\n",
       "    <tr style=\"text-align: right;\">\n",
       "      <th></th>\n",
       "      <th>search_engine</th>\n",
       "      <th>urls</th>\n",
       "    </tr>\n",
       "  </thead>\n",
       "  <tbody>\n",
       "    <tr>\n",
       "      <th>0</th>\n",
       "      <td>bing.txt</td>\n",
       "      <td>https:/www.nyp.orgipediatrics</td>\n",
       "    </tr>\n",
       "    <tr>\n",
       "      <th>1</th>\n",
       "      <td>bing.txt</td>\n",
       "      <td>https:/Awww</td>\n",
       "    </tr>\n",
       "    <tr>\n",
       "      <th>2</th>\n",
       "      <td>bing.txt</td>\n",
       "      <td>https://www.ncbi.nim.nih.gov/pmc/articles/PMC</td>\n",
       "    </tr>\n",
       "    <tr>\n",
       "      <th>3</th>\n",
       "      <td>bing.txt</td>\n",
       "      <td>https:/www.mskcc.org/cancer-care/experts</td>\n",
       "    </tr>\n",
       "    <tr>\n",
       "      <th>4</th>\n",
       "      <td>bing.txt</td>\n",
       "      <td>https:/www.texaschildrens.org/canceritreatment</td>\n",
       "    </tr>\n",
       "    <tr>\n",
       "      <th>5</th>\n",
       "      <td>bing.txt</td>\n",
       "      <td>https://cancer.montefioreeinstein.org/chiara_s...</td>\n",
       "    </tr>\n",
       "    <tr>\n",
       "      <th>6</th>\n",
       "      <td>bing.txt</td>\n",
       "      <td>https:/www.nyp.orgipediatrics</td>\n",
       "    </tr>\n",
       "    <tr>\n",
       "      <th>7</th>\n",
       "      <td>duckduckgo.txt</td>\n",
       "      <td>https://www.iccp-portal.org</td>\n",
       "    </tr>\n",
       "    <tr>\n",
       "      <th>8</th>\n",
       "      <td>duckduckgo.txt</td>\n",
       "      <td>https:/www.cancerorg</td>\n",
       "    </tr>\n",
       "    <tr>\n",
       "      <th>9</th>\n",
       "      <td>duckduckgo.txt</td>\n",
       "      <td>https:/www.nebinim.nih.gov</td>\n",
       "    </tr>\n",
       "  </tbody>\n",
       "</table>\n",
       "</div>"
      ],
      "text/plain": [
       "    search_engine                                               urls\n",
       "0        bing.txt                      https:/www.nyp.orgipediatrics\n",
       "1        bing.txt                                        https:/Awww\n",
       "2        bing.txt      https://www.ncbi.nim.nih.gov/pmc/articles/PMC\n",
       "3        bing.txt           https:/www.mskcc.org/cancer-care/experts\n",
       "4        bing.txt     https:/www.texaschildrens.org/canceritreatment\n",
       "5        bing.txt  https://cancer.montefioreeinstein.org/chiara_s...\n",
       "6        bing.txt                      https:/www.nyp.orgipediatrics\n",
       "7  duckduckgo.txt                        https://www.iccp-portal.org\n",
       "8  duckduckgo.txt                               https:/www.cancerorg\n",
       "9  duckduckgo.txt                         https:/www.nebinim.nih.gov"
      ]
     },
     "execution_count": 20,
     "metadata": {},
     "output_type": "execute_result"
    }
   ],
   "source": [
    "# checking if the .py file ran correctly\n",
    "df_search.head(10)"
   ]
  },
  {
   "cell_type": "code",
   "execution_count": 19,
   "id": "e4bebdd2",
   "metadata": {},
   "outputs": [
    {
     "data": {
      "text/plain": [
       "(46, 2)"
      ]
     },
     "execution_count": 19,
     "metadata": {},
     "output_type": "execute_result"
    }
   ],
   "source": [
    "df_search.shape"
   ]
  },
  {
   "cell_type": "code",
   "execution_count": 48,
   "id": "4ab849cb",
   "metadata": {},
   "outputs": [
    {
     "data": {
      "text/html": [
       "<div>\n",
       "<style scoped>\n",
       "    .dataframe tbody tr th:only-of-type {\n",
       "        vertical-align: middle;\n",
       "    }\n",
       "\n",
       "    .dataframe tbody tr th {\n",
       "        vertical-align: top;\n",
       "    }\n",
       "\n",
       "    .dataframe thead th {\n",
       "        text-align: right;\n",
       "    }\n",
       "</style>\n",
       "<table border=\"1\" class=\"dataframe\">\n",
       "  <thead>\n",
       "    <tr style=\"text-align: right;\">\n",
       "      <th></th>\n",
       "      <th>search_engine</th>\n",
       "      <th>urls</th>\n",
       "      <th>url_results</th>\n",
       "      <th>term_in_url</th>\n",
       "    </tr>\n",
       "  </thead>\n",
       "  <tbody>\n",
       "    <tr>\n",
       "      <th>0</th>\n",
       "      <td>bing</td>\n",
       "      <td>https:/www.nyp.orgipediatrics</td>\n",
       "      <td>https:/www.nyp.orgipediatrics</td>\n",
       "      <td>0</td>\n",
       "    </tr>\n",
       "    <tr>\n",
       "      <th>1</th>\n",
       "      <td>bing</td>\n",
       "      <td>https:/Awww</td>\n",
       "      <td>https:/Awww</td>\n",
       "      <td>0</td>\n",
       "    </tr>\n",
       "    <tr>\n",
       "      <th>2</th>\n",
       "      <td>bing</td>\n",
       "      <td>https://www.ncbi.nim.nih.gov/pmc/articles/PMC</td>\n",
       "      <td>https://www.ncbi.nim.nih.gov/pmc/articles/PMC</td>\n",
       "      <td>0</td>\n",
       "    </tr>\n",
       "    <tr>\n",
       "      <th>3</th>\n",
       "      <td>bing</td>\n",
       "      <td>https:/www.mskcc.org/cancer-care/experts</td>\n",
       "      <td>https:/www.mskcc.org/cancer-care/experts</td>\n",
       "      <td>1</td>\n",
       "    </tr>\n",
       "    <tr>\n",
       "      <th>4</th>\n",
       "      <td>bing</td>\n",
       "      <td>https:/www.texaschildrens.org/canceritreatment</td>\n",
       "      <td>https:/www.texaschildrens.org/canceritreatment</td>\n",
       "      <td>3</td>\n",
       "    </tr>\n",
       "  </tbody>\n",
       "</table>\n",
       "</div>"
      ],
      "text/plain": [
       "  search_engine                                            urls  \\\n",
       "0          bing                   https:/www.nyp.orgipediatrics   \n",
       "1          bing                                     https:/Awww   \n",
       "2          bing   https://www.ncbi.nim.nih.gov/pmc/articles/PMC   \n",
       "3          bing        https:/www.mskcc.org/cancer-care/experts   \n",
       "4          bing  https:/www.texaschildrens.org/canceritreatment   \n",
       "\n",
       "                                      url_results  term_in_url  \n",
       "0                   https:/www.nyp.orgipediatrics            0  \n",
       "1                                     https:/Awww            0  \n",
       "2   https://www.ncbi.nim.nih.gov/pmc/articles/PMC            0  \n",
       "3        https:/www.mskcc.org/cancer-care/experts            1  \n",
       "4  https:/www.texaschildrens.org/canceritreatment            3  "
      ]
     },
     "execution_count": 48,
     "metadata": {},
     "output_type": "execute_result"
    }
   ],
   "source": [
    "# remove .txt from search engine column\n",
    "df_search['search_engine'] = df_search['search_engine'].str.replace('.txt', '')\n",
    "df_search.head()"
   ]
  },
  {
   "cell_type": "markdown",
   "id": "21ccbd6d",
   "metadata": {},
   "source": [
    "### Add 'search_term', 'search_output', 'url_results', 'term_in_url' columns to df"
   ]
  },
  {
   "cell_type": "code",
   "execution_count": 49,
   "id": "3456556a",
   "metadata": {},
   "outputs": [],
   "source": [
    "df_search['url_results'] = df_search['urls']"
   ]
  },
  {
   "cell_type": "code",
   "execution_count": 50,
   "id": "2b5c836e",
   "metadata": {},
   "outputs": [],
   "source": [
    "# List of terms to check for\n",
    "terms_to_check = ['child', 'cancer', 'early', 'treatment']\n",
    "\n",
    "# Count occurrences of terms in each row of 'url_results' column\n",
    "df_search['term_in_url'] = df_search['url_results'].apply(lambda x: sum(x.count(term) for term in terms_to_check))\n"
   ]
  },
  {
   "cell_type": "code",
   "execution_count": 39,
   "id": "d4c74b11",
   "metadata": {},
   "outputs": [
    {
     "ename": "KeyError",
     "evalue": "'https:/www.nyp.orgipediatrics'",
     "output_type": "error",
     "traceback": [
      "\u001b[1;31m---------------------------------------------------------------------------\u001b[0m",
      "\u001b[1;31mKeyError\u001b[0m                                  Traceback (most recent call last)",
      "Cell \u001b[1;32mIn[39], line 5\u001b[0m\n\u001b[0;32m      1\u001b[0m \u001b[38;5;66;03m# add 'search_term', 'search_output', 'url_results', 'term_in_url' columns to df\u001b[39;00m\n\u001b[0;32m      2\u001b[0m \u001b[38;5;66;03m#df_search['search_term'] = \u001b[39;00m\n\u001b[0;32m      3\u001b[0m \u001b[38;5;66;03m#df_search['search_output'] = \u001b[39;00m\n\u001b[0;32m      4\u001b[0m df_search[\u001b[38;5;124m'\u001b[39m\u001b[38;5;124murl_results\u001b[39m\u001b[38;5;124m'\u001b[39m] \u001b[38;5;241m=\u001b[39m df_search[\u001b[38;5;124m'\u001b[39m\u001b[38;5;124murls\u001b[39m\u001b[38;5;124m'\u001b[39m]\n\u001b[1;32m----> 5\u001b[0m df_search[\u001b[38;5;124m'\u001b[39m\u001b[38;5;124mterm_in_url\u001b[39m\u001b[38;5;124m'\u001b[39m] \u001b[38;5;241m=\u001b[39m [df_search[\u001b[38;5;124m'\u001b[39m\u001b[38;5;124murl_results\u001b[39m\u001b[38;5;124m'\u001b[39m]\u001b[38;5;241m.\u001b[39mloc[x]\u001b[38;5;241m.\u001b[39misin([\u001b[38;5;124m'\u001b[39m\u001b[38;5;124mchildhood\u001b[39m\u001b[38;5;124m'\u001b[39m, \u001b[38;5;124m'\u001b[39m\u001b[38;5;124mcancer\u001b[39m\u001b[38;5;124m'\u001b[39m, \u001b[38;5;124m'\u001b[39m\u001b[38;5;124mearly\u001b[39m\u001b[38;5;124m'\u001b[39m, \u001b[38;5;124m'\u001b[39m\u001b[38;5;124mtreatment\u001b[39m\u001b[38;5;124m'\u001b[39m])\u001b[38;5;241m.\u001b[39mcount() \u001b[38;5;28;01mfor\u001b[39;00m x \u001b[38;5;129;01min\u001b[39;00m df_search[\u001b[38;5;124m'\u001b[39m\u001b[38;5;124murl_results\u001b[39m\u001b[38;5;124m'\u001b[39m]]\n",
      "Cell \u001b[1;32mIn[39], line 5\u001b[0m, in \u001b[0;36m<listcomp>\u001b[1;34m(.0)\u001b[0m\n\u001b[0;32m      1\u001b[0m \u001b[38;5;66;03m# add 'search_term', 'search_output', 'url_results', 'term_in_url' columns to df\u001b[39;00m\n\u001b[0;32m      2\u001b[0m \u001b[38;5;66;03m#df_search['search_term'] = \u001b[39;00m\n\u001b[0;32m      3\u001b[0m \u001b[38;5;66;03m#df_search['search_output'] = \u001b[39;00m\n\u001b[0;32m      4\u001b[0m df_search[\u001b[38;5;124m'\u001b[39m\u001b[38;5;124murl_results\u001b[39m\u001b[38;5;124m'\u001b[39m] \u001b[38;5;241m=\u001b[39m df_search[\u001b[38;5;124m'\u001b[39m\u001b[38;5;124murls\u001b[39m\u001b[38;5;124m'\u001b[39m]\n\u001b[1;32m----> 5\u001b[0m df_search[\u001b[38;5;124m'\u001b[39m\u001b[38;5;124mterm_in_url\u001b[39m\u001b[38;5;124m'\u001b[39m] \u001b[38;5;241m=\u001b[39m [\u001b[43mdf_search\u001b[49m\u001b[43m[\u001b[49m\u001b[38;5;124;43m'\u001b[39;49m\u001b[38;5;124;43murl_results\u001b[39;49m\u001b[38;5;124;43m'\u001b[39;49m\u001b[43m]\u001b[49m\u001b[38;5;241;43m.\u001b[39;49m\u001b[43mloc\u001b[49m\u001b[43m[\u001b[49m\u001b[43mx\u001b[49m\u001b[43m]\u001b[49m\u001b[38;5;241m.\u001b[39misin([\u001b[38;5;124m'\u001b[39m\u001b[38;5;124mchildhood\u001b[39m\u001b[38;5;124m'\u001b[39m, \u001b[38;5;124m'\u001b[39m\u001b[38;5;124mcancer\u001b[39m\u001b[38;5;124m'\u001b[39m, \u001b[38;5;124m'\u001b[39m\u001b[38;5;124mearly\u001b[39m\u001b[38;5;124m'\u001b[39m, \u001b[38;5;124m'\u001b[39m\u001b[38;5;124mtreatment\u001b[39m\u001b[38;5;124m'\u001b[39m])\u001b[38;5;241m.\u001b[39mcount() \u001b[38;5;28;01mfor\u001b[39;00m x \u001b[38;5;129;01min\u001b[39;00m df_search[\u001b[38;5;124m'\u001b[39m\u001b[38;5;124murl_results\u001b[39m\u001b[38;5;124m'\u001b[39m]]\n",
      "File \u001b[1;32m~\\AppData\\Local\\Packages\\PythonSoftwareFoundation.Python.3.10_qbz5n2kfra8p0\\LocalCache\\local-packages\\Python310\\site-packages\\pandas\\core\\indexing.py:1191\u001b[0m, in \u001b[0;36m_LocationIndexer.__getitem__\u001b[1;34m(self, key)\u001b[0m\n\u001b[0;32m   1189\u001b[0m maybe_callable \u001b[38;5;241m=\u001b[39m com\u001b[38;5;241m.\u001b[39mapply_if_callable(key, \u001b[38;5;28mself\u001b[39m\u001b[38;5;241m.\u001b[39mobj)\n\u001b[0;32m   1190\u001b[0m maybe_callable \u001b[38;5;241m=\u001b[39m \u001b[38;5;28mself\u001b[39m\u001b[38;5;241m.\u001b[39m_check_deprecated_callable_usage(key, maybe_callable)\n\u001b[1;32m-> 1191\u001b[0m \u001b[38;5;28;01mreturn\u001b[39;00m \u001b[38;5;28;43mself\u001b[39;49m\u001b[38;5;241;43m.\u001b[39;49m\u001b[43m_getitem_axis\u001b[49m\u001b[43m(\u001b[49m\u001b[43mmaybe_callable\u001b[49m\u001b[43m,\u001b[49m\u001b[43m \u001b[49m\u001b[43maxis\u001b[49m\u001b[38;5;241;43m=\u001b[39;49m\u001b[43maxis\u001b[49m\u001b[43m)\u001b[49m\n",
      "File \u001b[1;32m~\\AppData\\Local\\Packages\\PythonSoftwareFoundation.Python.3.10_qbz5n2kfra8p0\\LocalCache\\local-packages\\Python310\\site-packages\\pandas\\core\\indexing.py:1431\u001b[0m, in \u001b[0;36m_LocIndexer._getitem_axis\u001b[1;34m(self, key, axis)\u001b[0m\n\u001b[0;32m   1429\u001b[0m \u001b[38;5;66;03m# fall thru to straight lookup\u001b[39;00m\n\u001b[0;32m   1430\u001b[0m \u001b[38;5;28mself\u001b[39m\u001b[38;5;241m.\u001b[39m_validate_key(key, axis)\n\u001b[1;32m-> 1431\u001b[0m \u001b[38;5;28;01mreturn\u001b[39;00m \u001b[38;5;28;43mself\u001b[39;49m\u001b[38;5;241;43m.\u001b[39;49m\u001b[43m_get_label\u001b[49m\u001b[43m(\u001b[49m\u001b[43mkey\u001b[49m\u001b[43m,\u001b[49m\u001b[43m \u001b[49m\u001b[43maxis\u001b[49m\u001b[38;5;241;43m=\u001b[39;49m\u001b[43maxis\u001b[49m\u001b[43m)\u001b[49m\n",
      "File \u001b[1;32m~\\AppData\\Local\\Packages\\PythonSoftwareFoundation.Python.3.10_qbz5n2kfra8p0\\LocalCache\\local-packages\\Python310\\site-packages\\pandas\\core\\indexing.py:1381\u001b[0m, in \u001b[0;36m_LocIndexer._get_label\u001b[1;34m(self, label, axis)\u001b[0m\n\u001b[0;32m   1379\u001b[0m \u001b[38;5;28;01mdef\u001b[39;00m \u001b[38;5;21m_get_label\u001b[39m(\u001b[38;5;28mself\u001b[39m, label, axis: AxisInt):\n\u001b[0;32m   1380\u001b[0m     \u001b[38;5;66;03m# GH#5567 this will fail if the label is not present in the axis.\u001b[39;00m\n\u001b[1;32m-> 1381\u001b[0m     \u001b[38;5;28;01mreturn\u001b[39;00m \u001b[38;5;28;43mself\u001b[39;49m\u001b[38;5;241;43m.\u001b[39;49m\u001b[43mobj\u001b[49m\u001b[38;5;241;43m.\u001b[39;49m\u001b[43mxs\u001b[49m\u001b[43m(\u001b[49m\u001b[43mlabel\u001b[49m\u001b[43m,\u001b[49m\u001b[43m \u001b[49m\u001b[43maxis\u001b[49m\u001b[38;5;241;43m=\u001b[39;49m\u001b[43maxis\u001b[49m\u001b[43m)\u001b[49m\n",
      "File \u001b[1;32m~\\AppData\\Local\\Packages\\PythonSoftwareFoundation.Python.3.10_qbz5n2kfra8p0\\LocalCache\\local-packages\\Python310\\site-packages\\pandas\\core\\generic.py:4298\u001b[0m, in \u001b[0;36mNDFrame.xs\u001b[1;34m(self, key, axis, level, drop_level)\u001b[0m\n\u001b[0;32m   4296\u001b[0m             new_index \u001b[38;5;241m=\u001b[39m index[loc]\n\u001b[0;32m   4297\u001b[0m \u001b[38;5;28;01melse\u001b[39;00m:\n\u001b[1;32m-> 4298\u001b[0m     loc \u001b[38;5;241m=\u001b[39m \u001b[43mindex\u001b[49m\u001b[38;5;241;43m.\u001b[39;49m\u001b[43mget_loc\u001b[49m\u001b[43m(\u001b[49m\u001b[43mkey\u001b[49m\u001b[43m)\u001b[49m\n\u001b[0;32m   4300\u001b[0m     \u001b[38;5;28;01mif\u001b[39;00m \u001b[38;5;28misinstance\u001b[39m(loc, np\u001b[38;5;241m.\u001b[39mndarray):\n\u001b[0;32m   4301\u001b[0m         \u001b[38;5;28;01mif\u001b[39;00m loc\u001b[38;5;241m.\u001b[39mdtype \u001b[38;5;241m==\u001b[39m np\u001b[38;5;241m.\u001b[39mbool_:\n",
      "File \u001b[1;32m~\\AppData\\Local\\Packages\\PythonSoftwareFoundation.Python.3.10_qbz5n2kfra8p0\\LocalCache\\local-packages\\Python310\\site-packages\\pandas\\core\\indexes\\range.py:417\u001b[0m, in \u001b[0;36mRangeIndex.get_loc\u001b[1;34m(self, key)\u001b[0m\n\u001b[0;32m    415\u001b[0m         \u001b[38;5;28;01mraise\u001b[39;00m \u001b[38;5;167;01mKeyError\u001b[39;00m(key) \u001b[38;5;28;01mfrom\u001b[39;00m \u001b[38;5;21;01merr\u001b[39;00m\n\u001b[0;32m    416\u001b[0m \u001b[38;5;28;01mif\u001b[39;00m \u001b[38;5;28misinstance\u001b[39m(key, Hashable):\n\u001b[1;32m--> 417\u001b[0m     \u001b[38;5;28;01mraise\u001b[39;00m \u001b[38;5;167;01mKeyError\u001b[39;00m(key)\n\u001b[0;32m    418\u001b[0m \u001b[38;5;28mself\u001b[39m\u001b[38;5;241m.\u001b[39m_check_indexing_error(key)\n\u001b[0;32m    419\u001b[0m \u001b[38;5;28;01mraise\u001b[39;00m \u001b[38;5;167;01mKeyError\u001b[39;00m(key)\n",
      "\u001b[1;31mKeyError\u001b[0m: 'https:/www.nyp.orgipediatrics'"
     ]
    }
   ],
   "source": [
    "# \n",
    "#df_search['search_term'] = \n",
    "#df_search['search_output'] = \n"
   ]
  },
  {
   "cell_type": "code",
   "execution_count": 45,
   "id": "3a694eb8",
   "metadata": {},
   "outputs": [
    {
     "data": {
      "text/html": [
       "<div>\n",
       "<style scoped>\n",
       "    .dataframe tbody tr th:only-of-type {\n",
       "        vertical-align: middle;\n",
       "    }\n",
       "\n",
       "    .dataframe tbody tr th {\n",
       "        vertical-align: top;\n",
       "    }\n",
       "\n",
       "    .dataframe thead th {\n",
       "        text-align: right;\n",
       "    }\n",
       "</style>\n",
       "<table border=\"1\" class=\"dataframe\">\n",
       "  <thead>\n",
       "    <tr style=\"text-align: right;\">\n",
       "      <th></th>\n",
       "      <th>search_engine</th>\n",
       "      <th>urls</th>\n",
       "      <th>url_results</th>\n",
       "      <th>term_in_url</th>\n",
       "    </tr>\n",
       "  </thead>\n",
       "  <tbody>\n",
       "    <tr>\n",
       "      <th>0</th>\n",
       "      <td>bing.txt</td>\n",
       "      <td>https:/www.nyp.orgipediatrics</td>\n",
       "      <td>https:/www.nyp.orgipediatrics</td>\n",
       "      <td>0</td>\n",
       "    </tr>\n",
       "    <tr>\n",
       "      <th>1</th>\n",
       "      <td>bing.txt</td>\n",
       "      <td>https:/Awww</td>\n",
       "      <td>https:/Awww</td>\n",
       "      <td>0</td>\n",
       "    </tr>\n",
       "    <tr>\n",
       "      <th>2</th>\n",
       "      <td>bing.txt</td>\n",
       "      <td>https://www.ncbi.nim.nih.gov/pmc/articles/PMC</td>\n",
       "      <td>https://www.ncbi.nim.nih.gov/pmc/articles/PMC</td>\n",
       "      <td>0</td>\n",
       "    </tr>\n",
       "    <tr>\n",
       "      <th>3</th>\n",
       "      <td>bing.txt</td>\n",
       "      <td>https:/www.mskcc.org/cancer-care/experts</td>\n",
       "      <td>https:/www.mskcc.org/cancer-care/experts</td>\n",
       "      <td>1</td>\n",
       "    </tr>\n",
       "    <tr>\n",
       "      <th>4</th>\n",
       "      <td>bing.txt</td>\n",
       "      <td>https:/www.texaschildrens.org/canceritreatment</td>\n",
       "      <td>https:/www.texaschildrens.org/canceritreatment</td>\n",
       "      <td>3</td>\n",
       "    </tr>\n",
       "  </tbody>\n",
       "</table>\n",
       "</div>"
      ],
      "text/plain": [
       "  search_engine                                            urls  \\\n",
       "0      bing.txt                   https:/www.nyp.orgipediatrics   \n",
       "1      bing.txt                                     https:/Awww   \n",
       "2      bing.txt   https://www.ncbi.nim.nih.gov/pmc/articles/PMC   \n",
       "3      bing.txt        https:/www.mskcc.org/cancer-care/experts   \n",
       "4      bing.txt  https:/www.texaschildrens.org/canceritreatment   \n",
       "\n",
       "                                      url_results  term_in_url  \n",
       "0                   https:/www.nyp.orgipediatrics            0  \n",
       "1                                     https:/Awww            0  \n",
       "2   https://www.ncbi.nim.nih.gov/pmc/articles/PMC            0  \n",
       "3        https:/www.mskcc.org/cancer-care/experts            1  \n",
       "4  https:/www.texaschildrens.org/canceritreatment            3  "
      ]
     },
     "execution_count": 45,
     "metadata": {},
     "output_type": "execute_result"
    }
   ],
   "source": [
    "df_search.head()"
   ]
  },
  {
   "cell_type": "markdown",
   "id": "b66d4dcb8c1ecc29",
   "metadata": {
    "collapsed": false
   },
   "source": [
    "Count the frequency of each search term in the URL"
   ]
  },
  {
   "cell_type": "code",
   "execution_count": null,
   "id": "50e1c42a06eed5cd",
   "metadata": {
    "collapsed": false
   },
   "outputs": [],
   "source": []
  },
  {
   "cell_type": "markdown",
   "id": "a563ab51bd36dfe6",
   "metadata": {
    "collapsed": false
   },
   "source": [
    "\n",
    "Add the frequency search term count to dataframe."
   ]
  },
  {
   "cell_type": "code",
   "execution_count": null,
   "id": "744205c8bce80f42",
   "metadata": {
    "collapsed": false
   },
   "outputs": [],
   "source": [
    "# add dictionary of urls into data frame\n"
   ]
  },
  {
   "cell_type": "markdown",
   "id": "d1076c9000c480fb",
   "metadata": {
    "collapsed": false
   },
   "source": [
    "Connecting to the Mysql database"
   ]
  },
  {
   "cell_type": "code",
   "execution_count": null,
   "id": "eda2f089",
   "metadata": {},
   "outputs": [],
   "source": [
    "import mysql.connector"
   ]
  },
  {
   "cell_type": "code",
   "execution_count": 24,
   "id": "17921497",
   "metadata": {
    "ExecuteTime": {
     "end_time": "2024-04-12T04:42:29.966384Z",
     "start_time": "2024-04-12T04:42:17.272565Z"
    }
   },
   "outputs": [
    {
     "name": "stdout",
     "output_type": "stream",
     "text": [
      "<mysql.connector.connection.MySQLConnection object at 0x000001759FAD8880>\n"
     ]
    }
   ],
   "source": [
    "# create connection\n",
    "conn = mysql.connector.connect(\n",
    "  host=\"localhost\",\n",
    "  user= \"esther\",\n",
    "  password= \"\"\n",
    ")\n"
   ]
  },
  {
   "cell_type": "code",
   "execution_count": 25,
   "id": "133979741932be0a",
   "metadata": {
    "collapsed": false
   },
   "outputs": [],
   "source": [
    "# preparing the cursor object\n",
    "cursor = conn.cursor()"
   ]
  },
  {
   "cell_type": "code",
   "execution_count": null,
   "id": "aa4d0595",
   "metadata": {},
   "outputs": [],
   "source": [
    "# creating the database\n",
    "cursor.execute('CREATE DATABASE MY_CUSTOM_BOT')"
   ]
  },
  {
   "cell_type": "code",
   "execution_count": null,
   "id": "fcdbe73c",
   "metadata": {},
   "outputs": [],
   "source": [
    "# creating table\n",
    "cursor.execute('CREATE TABLE MY_CUSTOM_BOT.search (search_term VARCHAR(255),search_output VARCHAR(255),url_results VARCHAR(255),term_in_url VARCHAR(255));')"
   ]
  },
  {
   "cell_type": "code",
   "execution_count": 34,
   "id": "d06c90a2",
   "metadata": {},
   "outputs": [
    {
     "name": "stderr",
     "output_type": "stream",
     "text": [
      "C:\\Users\\esthe\\AppData\\Local\\Temp\\ipykernel_32632\\923537931.py:2: UserWarning: pandas only supports SQLAlchemy connectable (engine/connection) or database string URI or sqlite3 DBAPI2 connection. Other DBAPI2 objects are not tested. Please consider using SQLAlchemy.\n",
      "  df_search.to_sql(con = conn, if_exists='append', name='search')\n"
     ]
    },
    {
     "ename": "DatabaseError",
     "evalue": "Execution failed on sql '\n        SELECT\n            name\n        FROM\n            sqlite_master\n        WHERE\n            type IN ('table', 'view')\n            AND name=?;\n        ': Not all parameters were used in the SQL statement",
     "output_type": "error",
     "traceback": [
      "\u001b[1;31m---------------------------------------------------------------------------\u001b[0m",
      "\u001b[1;31mProgrammingError\u001b[0m                          Traceback (most recent call last)",
      "File \u001b[1;32m~\\AppData\\Local\\Packages\\PythonSoftwareFoundation.Python.3.10_qbz5n2kfra8p0\\LocalCache\\local-packages\\Python310\\site-packages\\pandas\\io\\sql.py:2672\u001b[0m, in \u001b[0;36mSQLiteDatabase.execute\u001b[1;34m(self, sql, params)\u001b[0m\n\u001b[0;32m   2671\u001b[0m \u001b[38;5;28;01mtry\u001b[39;00m:\n\u001b[1;32m-> 2672\u001b[0m     \u001b[43mcur\u001b[49m\u001b[38;5;241;43m.\u001b[39;49m\u001b[43mexecute\u001b[49m\u001b[43m(\u001b[49m\u001b[43msql\u001b[49m\u001b[43m,\u001b[49m\u001b[43m \u001b[49m\u001b[38;5;241;43m*\u001b[39;49m\u001b[43margs\u001b[49m\u001b[43m)\u001b[49m\n\u001b[0;32m   2673\u001b[0m     \u001b[38;5;28;01mreturn\u001b[39;00m cur\n",
      "File \u001b[1;32m~\\AppData\\Local\\Packages\\PythonSoftwareFoundation.Python.3.10_qbz5n2kfra8p0\\LocalCache\\local-packages\\Python310\\site-packages\\mysql\\connector\\cursor.py:733\u001b[0m, in \u001b[0;36mMySQLCursor.execute\u001b[1;34m(self, operation, params, multi)\u001b[0m\n\u001b[0;32m    732\u001b[0m     \u001b[38;5;28;01mif\u001b[39;00m psub\u001b[38;5;241m.\u001b[39mremaining \u001b[38;5;241m!=\u001b[39m \u001b[38;5;241m0\u001b[39m:\n\u001b[1;32m--> 733\u001b[0m         \u001b[38;5;28;01mraise\u001b[39;00m ProgrammingError(\n\u001b[0;32m    734\u001b[0m             \u001b[38;5;124m\"\u001b[39m\u001b[38;5;124mNot all parameters were used in the SQL statement\u001b[39m\u001b[38;5;124m\"\u001b[39m\n\u001b[0;32m    735\u001b[0m         )\n\u001b[0;32m    736\u001b[0m \u001b[38;5;28;01melse\u001b[39;00m:\n",
      "\u001b[1;31mProgrammingError\u001b[0m: Not all parameters were used in the SQL statement",
      "\nThe above exception was the direct cause of the following exception:\n",
      "\u001b[1;31mDatabaseError\u001b[0m                             Traceback (most recent call last)",
      "Cell \u001b[1;32mIn[34], line 2\u001b[0m\n\u001b[0;32m      1\u001b[0m \u001b[38;5;66;03m# convert df to sql\u001b[39;00m\n\u001b[1;32m----> 2\u001b[0m \u001b[43mdf_search\u001b[49m\u001b[38;5;241;43m.\u001b[39;49m\u001b[43mto_sql\u001b[49m\u001b[43m(\u001b[49m\u001b[43mcon\u001b[49m\u001b[43m \u001b[49m\u001b[38;5;241;43m=\u001b[39;49m\u001b[43m \u001b[49m\u001b[43mconn\u001b[49m\u001b[43m,\u001b[49m\u001b[43m \u001b[49m\u001b[43mif_exists\u001b[49m\u001b[38;5;241;43m=\u001b[39;49m\u001b[38;5;124;43m'\u001b[39;49m\u001b[38;5;124;43mappend\u001b[39;49m\u001b[38;5;124;43m'\u001b[39;49m\u001b[43m,\u001b[49m\u001b[43m \u001b[49m\u001b[43mname\u001b[49m\u001b[38;5;241;43m=\u001b[39;49m\u001b[38;5;124;43m'\u001b[39;49m\u001b[38;5;124;43msearch\u001b[39;49m\u001b[38;5;124;43m'\u001b[39;49m\u001b[43m)\u001b[49m\n",
      "File \u001b[1;32m~\\AppData\\Local\\Packages\\PythonSoftwareFoundation.Python.3.10_qbz5n2kfra8p0\\LocalCache\\local-packages\\Python310\\site-packages\\pandas\\util\\_decorators.py:333\u001b[0m, in \u001b[0;36mdeprecate_nonkeyword_arguments.<locals>.decorate.<locals>.wrapper\u001b[1;34m(*args, **kwargs)\u001b[0m\n\u001b[0;32m    327\u001b[0m \u001b[38;5;28;01mif\u001b[39;00m \u001b[38;5;28mlen\u001b[39m(args) \u001b[38;5;241m>\u001b[39m num_allow_args:\n\u001b[0;32m    328\u001b[0m     warnings\u001b[38;5;241m.\u001b[39mwarn(\n\u001b[0;32m    329\u001b[0m         msg\u001b[38;5;241m.\u001b[39mformat(arguments\u001b[38;5;241m=\u001b[39m_format_argument_list(allow_args)),\n\u001b[0;32m    330\u001b[0m         \u001b[38;5;167;01mFutureWarning\u001b[39;00m,\n\u001b[0;32m    331\u001b[0m         stacklevel\u001b[38;5;241m=\u001b[39mfind_stack_level(),\n\u001b[0;32m    332\u001b[0m     )\n\u001b[1;32m--> 333\u001b[0m \u001b[38;5;28;01mreturn\u001b[39;00m func(\u001b[38;5;241m*\u001b[39margs, \u001b[38;5;241m*\u001b[39m\u001b[38;5;241m*\u001b[39mkwargs)\n",
      "File \u001b[1;32m~\\AppData\\Local\\Packages\\PythonSoftwareFoundation.Python.3.10_qbz5n2kfra8p0\\LocalCache\\local-packages\\Python310\\site-packages\\pandas\\core\\generic.py:3084\u001b[0m, in \u001b[0;36mNDFrame.to_sql\u001b[1;34m(self, name, con, schema, if_exists, index, index_label, chunksize, dtype, method)\u001b[0m\n\u001b[0;32m   2886\u001b[0m \u001b[38;5;250m\u001b[39m\u001b[38;5;124;03m\"\"\"\u001b[39;00m\n\u001b[0;32m   2887\u001b[0m \u001b[38;5;124;03mWrite records stored in a DataFrame to a SQL database.\u001b[39;00m\n\u001b[0;32m   2888\u001b[0m \n\u001b[1;32m   (...)\u001b[0m\n\u001b[0;32m   3080\u001b[0m \u001b[38;5;124;03m[(1,), (None,), (2,)]\u001b[39;00m\n\u001b[0;32m   3081\u001b[0m \u001b[38;5;124;03m\"\"\"\u001b[39;00m  \u001b[38;5;66;03m# noqa: E501\u001b[39;00m\n\u001b[0;32m   3082\u001b[0m \u001b[38;5;28;01mfrom\u001b[39;00m \u001b[38;5;21;01mpandas\u001b[39;00m\u001b[38;5;21;01m.\u001b[39;00m\u001b[38;5;21;01mio\u001b[39;00m \u001b[38;5;28;01mimport\u001b[39;00m sql\n\u001b[1;32m-> 3084\u001b[0m \u001b[38;5;28;01mreturn\u001b[39;00m \u001b[43msql\u001b[49m\u001b[38;5;241;43m.\u001b[39;49m\u001b[43mto_sql\u001b[49m\u001b[43m(\u001b[49m\n\u001b[0;32m   3085\u001b[0m \u001b[43m    \u001b[49m\u001b[38;5;28;43mself\u001b[39;49m\u001b[43m,\u001b[49m\n\u001b[0;32m   3086\u001b[0m \u001b[43m    \u001b[49m\u001b[43mname\u001b[49m\u001b[43m,\u001b[49m\n\u001b[0;32m   3087\u001b[0m \u001b[43m    \u001b[49m\u001b[43mcon\u001b[49m\u001b[43m,\u001b[49m\n\u001b[0;32m   3088\u001b[0m \u001b[43m    \u001b[49m\u001b[43mschema\u001b[49m\u001b[38;5;241;43m=\u001b[39;49m\u001b[43mschema\u001b[49m\u001b[43m,\u001b[49m\n\u001b[0;32m   3089\u001b[0m \u001b[43m    \u001b[49m\u001b[43mif_exists\u001b[49m\u001b[38;5;241;43m=\u001b[39;49m\u001b[43mif_exists\u001b[49m\u001b[43m,\u001b[49m\n\u001b[0;32m   3090\u001b[0m \u001b[43m    \u001b[49m\u001b[43mindex\u001b[49m\u001b[38;5;241;43m=\u001b[39;49m\u001b[43mindex\u001b[49m\u001b[43m,\u001b[49m\n\u001b[0;32m   3091\u001b[0m \u001b[43m    \u001b[49m\u001b[43mindex_label\u001b[49m\u001b[38;5;241;43m=\u001b[39;49m\u001b[43mindex_label\u001b[49m\u001b[43m,\u001b[49m\n\u001b[0;32m   3092\u001b[0m \u001b[43m    \u001b[49m\u001b[43mchunksize\u001b[49m\u001b[38;5;241;43m=\u001b[39;49m\u001b[43mchunksize\u001b[49m\u001b[43m,\u001b[49m\n\u001b[0;32m   3093\u001b[0m \u001b[43m    \u001b[49m\u001b[43mdtype\u001b[49m\u001b[38;5;241;43m=\u001b[39;49m\u001b[43mdtype\u001b[49m\u001b[43m,\u001b[49m\n\u001b[0;32m   3094\u001b[0m \u001b[43m    \u001b[49m\u001b[43mmethod\u001b[49m\u001b[38;5;241;43m=\u001b[39;49m\u001b[43mmethod\u001b[49m\u001b[43m,\u001b[49m\n\u001b[0;32m   3095\u001b[0m \u001b[43m\u001b[49m\u001b[43m)\u001b[49m\n",
      "File \u001b[1;32m~\\AppData\\Local\\Packages\\PythonSoftwareFoundation.Python.3.10_qbz5n2kfra8p0\\LocalCache\\local-packages\\Python310\\site-packages\\pandas\\io\\sql.py:842\u001b[0m, in \u001b[0;36mto_sql\u001b[1;34m(frame, name, con, schema, if_exists, index, index_label, chunksize, dtype, method, engine, **engine_kwargs)\u001b[0m\n\u001b[0;32m    837\u001b[0m     \u001b[38;5;28;01mraise\u001b[39;00m \u001b[38;5;167;01mNotImplementedError\u001b[39;00m(\n\u001b[0;32m    838\u001b[0m         \u001b[38;5;124m\"\u001b[39m\u001b[38;5;124m'\u001b[39m\u001b[38;5;124mframe\u001b[39m\u001b[38;5;124m'\u001b[39m\u001b[38;5;124m argument should be either a Series or a DataFrame\u001b[39m\u001b[38;5;124m\"\u001b[39m\n\u001b[0;32m    839\u001b[0m     )\n\u001b[0;32m    841\u001b[0m \u001b[38;5;28;01mwith\u001b[39;00m pandasSQL_builder(con, schema\u001b[38;5;241m=\u001b[39mschema, need_transaction\u001b[38;5;241m=\u001b[39m\u001b[38;5;28;01mTrue\u001b[39;00m) \u001b[38;5;28;01mas\u001b[39;00m pandas_sql:\n\u001b[1;32m--> 842\u001b[0m     \u001b[38;5;28;01mreturn\u001b[39;00m pandas_sql\u001b[38;5;241m.\u001b[39mto_sql(\n\u001b[0;32m    843\u001b[0m         frame,\n\u001b[0;32m    844\u001b[0m         name,\n\u001b[0;32m    845\u001b[0m         if_exists\u001b[38;5;241m=\u001b[39mif_exists,\n\u001b[0;32m    846\u001b[0m         index\u001b[38;5;241m=\u001b[39mindex,\n\u001b[0;32m    847\u001b[0m         index_label\u001b[38;5;241m=\u001b[39mindex_label,\n\u001b[0;32m    848\u001b[0m         schema\u001b[38;5;241m=\u001b[39mschema,\n\u001b[0;32m    849\u001b[0m         chunksize\u001b[38;5;241m=\u001b[39mchunksize,\n\u001b[0;32m    850\u001b[0m         dtype\u001b[38;5;241m=\u001b[39mdtype,\n\u001b[0;32m    851\u001b[0m         method\u001b[38;5;241m=\u001b[39mmethod,\n\u001b[0;32m    852\u001b[0m         engine\u001b[38;5;241m=\u001b[39mengine,\n\u001b[0;32m    853\u001b[0m         \u001b[38;5;241m*\u001b[39m\u001b[38;5;241m*\u001b[39mengine_kwargs,\n\u001b[0;32m    854\u001b[0m     )\n",
      "File \u001b[1;32m~\\AppData\\Local\\Packages\\PythonSoftwareFoundation.Python.3.10_qbz5n2kfra8p0\\LocalCache\\local-packages\\Python310\\site-packages\\pandas\\io\\sql.py:2848\u001b[0m, in \u001b[0;36mSQLiteDatabase.to_sql\u001b[1;34m(self, frame, name, if_exists, index, index_label, schema, chunksize, dtype, method, engine, **engine_kwargs)\u001b[0m\n\u001b[0;32m   2837\u001b[0m             \u001b[38;5;28;01mraise\u001b[39;00m \u001b[38;5;167;01mValueError\u001b[39;00m(\u001b[38;5;124mf\u001b[39m\u001b[38;5;124m\"\u001b[39m\u001b[38;5;132;01m{\u001b[39;00mcol\u001b[38;5;132;01m}\u001b[39;00m\u001b[38;5;124m (\u001b[39m\u001b[38;5;132;01m{\u001b[39;00mmy_type\u001b[38;5;132;01m}\u001b[39;00m\u001b[38;5;124m) not a string\u001b[39m\u001b[38;5;124m\"\u001b[39m)\n\u001b[0;32m   2839\u001b[0m table \u001b[38;5;241m=\u001b[39m SQLiteTable(\n\u001b[0;32m   2840\u001b[0m     name,\n\u001b[0;32m   2841\u001b[0m     \u001b[38;5;28mself\u001b[39m,\n\u001b[1;32m   (...)\u001b[0m\n\u001b[0;32m   2846\u001b[0m     dtype\u001b[38;5;241m=\u001b[39mdtype,\n\u001b[0;32m   2847\u001b[0m )\n\u001b[1;32m-> 2848\u001b[0m \u001b[43mtable\u001b[49m\u001b[38;5;241;43m.\u001b[39;49m\u001b[43mcreate\u001b[49m\u001b[43m(\u001b[49m\u001b[43m)\u001b[49m\n\u001b[0;32m   2849\u001b[0m \u001b[38;5;28;01mreturn\u001b[39;00m table\u001b[38;5;241m.\u001b[39minsert(chunksize, method)\n",
      "File \u001b[1;32m~\\AppData\\Local\\Packages\\PythonSoftwareFoundation.Python.3.10_qbz5n2kfra8p0\\LocalCache\\local-packages\\Python310\\site-packages\\pandas\\io\\sql.py:984\u001b[0m, in \u001b[0;36mSQLTable.create\u001b[1;34m(self)\u001b[0m\n\u001b[0;32m    983\u001b[0m \u001b[38;5;28;01mdef\u001b[39;00m \u001b[38;5;21mcreate\u001b[39m(\u001b[38;5;28mself\u001b[39m) \u001b[38;5;241m-\u001b[39m\u001b[38;5;241m>\u001b[39m \u001b[38;5;28;01mNone\u001b[39;00m:\n\u001b[1;32m--> 984\u001b[0m     \u001b[38;5;28;01mif\u001b[39;00m \u001b[38;5;28;43mself\u001b[39;49m\u001b[38;5;241;43m.\u001b[39;49m\u001b[43mexists\u001b[49m\u001b[43m(\u001b[49m\u001b[43m)\u001b[49m:\n\u001b[0;32m    985\u001b[0m         \u001b[38;5;28;01mif\u001b[39;00m \u001b[38;5;28mself\u001b[39m\u001b[38;5;241m.\u001b[39mif_exists \u001b[38;5;241m==\u001b[39m \u001b[38;5;124m\"\u001b[39m\u001b[38;5;124mfail\u001b[39m\u001b[38;5;124m\"\u001b[39m:\n\u001b[0;32m    986\u001b[0m             \u001b[38;5;28;01mraise\u001b[39;00m \u001b[38;5;167;01mValueError\u001b[39;00m(\u001b[38;5;124mf\u001b[39m\u001b[38;5;124m\"\u001b[39m\u001b[38;5;124mTable \u001b[39m\u001b[38;5;124m'\u001b[39m\u001b[38;5;132;01m{\u001b[39;00m\u001b[38;5;28mself\u001b[39m\u001b[38;5;241m.\u001b[39mname\u001b[38;5;132;01m}\u001b[39;00m\u001b[38;5;124m'\u001b[39m\u001b[38;5;124m already exists.\u001b[39m\u001b[38;5;124m\"\u001b[39m)\n",
      "File \u001b[1;32m~\\AppData\\Local\\Packages\\PythonSoftwareFoundation.Python.3.10_qbz5n2kfra8p0\\LocalCache\\local-packages\\Python310\\site-packages\\pandas\\io\\sql.py:970\u001b[0m, in \u001b[0;36mSQLTable.exists\u001b[1;34m(self)\u001b[0m\n\u001b[0;32m    969\u001b[0m \u001b[38;5;28;01mdef\u001b[39;00m \u001b[38;5;21mexists\u001b[39m(\u001b[38;5;28mself\u001b[39m):\n\u001b[1;32m--> 970\u001b[0m     \u001b[38;5;28;01mreturn\u001b[39;00m \u001b[38;5;28;43mself\u001b[39;49m\u001b[38;5;241;43m.\u001b[39;49m\u001b[43mpd_sql\u001b[49m\u001b[38;5;241;43m.\u001b[39;49m\u001b[43mhas_table\u001b[49m\u001b[43m(\u001b[49m\u001b[38;5;28;43mself\u001b[39;49m\u001b[38;5;241;43m.\u001b[39;49m\u001b[43mname\u001b[49m\u001b[43m,\u001b[49m\u001b[43m \u001b[49m\u001b[38;5;28;43mself\u001b[39;49m\u001b[38;5;241;43m.\u001b[39;49m\u001b[43mschema\u001b[49m\u001b[43m)\u001b[49m\n",
      "File \u001b[1;32m~\\AppData\\Local\\Packages\\PythonSoftwareFoundation.Python.3.10_qbz5n2kfra8p0\\LocalCache\\local-packages\\Python310\\site-packages\\pandas\\io\\sql.py:2863\u001b[0m, in \u001b[0;36mSQLiteDatabase.has_table\u001b[1;34m(self, name, schema)\u001b[0m\n\u001b[0;32m   2852\u001b[0m wld \u001b[38;5;241m=\u001b[39m \u001b[38;5;124m\"\u001b[39m\u001b[38;5;124m?\u001b[39m\u001b[38;5;124m\"\u001b[39m\n\u001b[0;32m   2853\u001b[0m query \u001b[38;5;241m=\u001b[39m \u001b[38;5;124mf\u001b[39m\u001b[38;5;124m\"\"\"\u001b[39m\n\u001b[0;32m   2854\u001b[0m \u001b[38;5;124mSELECT\u001b[39m\n\u001b[0;32m   2855\u001b[0m \u001b[38;5;124m    name\u001b[39m\n\u001b[1;32m   (...)\u001b[0m\n\u001b[0;32m   2860\u001b[0m \u001b[38;5;124m    AND name=\u001b[39m\u001b[38;5;132;01m{\u001b[39;00mwld\u001b[38;5;132;01m}\u001b[39;00m\u001b[38;5;124m;\u001b[39m\n\u001b[0;32m   2861\u001b[0m \u001b[38;5;124m\u001b[39m\u001b[38;5;124m\"\"\"\u001b[39m\n\u001b[1;32m-> 2863\u001b[0m \u001b[38;5;28;01mreturn\u001b[39;00m \u001b[38;5;28mlen\u001b[39m(\u001b[38;5;28;43mself\u001b[39;49m\u001b[38;5;241;43m.\u001b[39;49m\u001b[43mexecute\u001b[49m\u001b[43m(\u001b[49m\u001b[43mquery\u001b[49m\u001b[43m,\u001b[49m\u001b[43m \u001b[49m\u001b[43m[\u001b[49m\u001b[43mname\u001b[49m\u001b[43m]\u001b[49m\u001b[43m)\u001b[49m\u001b[38;5;241m.\u001b[39mfetchall()) \u001b[38;5;241m>\u001b[39m \u001b[38;5;241m0\u001b[39m\n",
      "File \u001b[1;32m~\\AppData\\Local\\Packages\\PythonSoftwareFoundation.Python.3.10_qbz5n2kfra8p0\\LocalCache\\local-packages\\Python310\\site-packages\\pandas\\io\\sql.py:2684\u001b[0m, in \u001b[0;36mSQLiteDatabase.execute\u001b[1;34m(self, sql, params)\u001b[0m\n\u001b[0;32m   2681\u001b[0m     \u001b[38;5;28;01mraise\u001b[39;00m ex \u001b[38;5;28;01mfrom\u001b[39;00m \u001b[38;5;21;01minner_exc\u001b[39;00m\n\u001b[0;32m   2683\u001b[0m ex \u001b[38;5;241m=\u001b[39m DatabaseError(\u001b[38;5;124mf\u001b[39m\u001b[38;5;124m\"\u001b[39m\u001b[38;5;124mExecution failed on sql \u001b[39m\u001b[38;5;124m'\u001b[39m\u001b[38;5;132;01m{\u001b[39;00msql\u001b[38;5;132;01m}\u001b[39;00m\u001b[38;5;124m'\u001b[39m\u001b[38;5;124m: \u001b[39m\u001b[38;5;132;01m{\u001b[39;00mexc\u001b[38;5;132;01m}\u001b[39;00m\u001b[38;5;124m\"\u001b[39m)\n\u001b[1;32m-> 2684\u001b[0m \u001b[38;5;28;01mraise\u001b[39;00m ex \u001b[38;5;28;01mfrom\u001b[39;00m \u001b[38;5;21;01mexc\u001b[39;00m\n",
      "\u001b[1;31mDatabaseError\u001b[0m: Execution failed on sql '\n        SELECT\n            name\n        FROM\n            sqlite_master\n        WHERE\n            type IN ('table', 'view')\n            AND name=?;\n        ': Not all parameters were used in the SQL statement"
     ]
    }
   ],
   "source": [
    "# convert df to sql\n",
    "df_search.to_sql(con = conn, if_exists='append', name='search')"
   ]
  }
 ],
 "metadata": {
  "kernelspec": {
   "display_name": "Python 3 (ipykernel)",
   "language": "python",
   "name": "python3"
  },
  "language_info": {
   "codemirror_mode": {
    "name": "ipython",
    "version": 3
   },
   "file_extension": ".py",
   "mimetype": "text/x-python",
   "name": "python",
   "nbconvert_exporter": "python",
   "pygments_lexer": "ipython3",
   "version": "3.10.11"
  }
 },
 "nbformat": 4,
 "nbformat_minor": 5
}
