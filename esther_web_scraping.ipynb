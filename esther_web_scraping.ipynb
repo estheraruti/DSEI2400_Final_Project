{
 "cells": [
  {
   "cell_type": "markdown",
   "id": "6b3ddfa4",
   "metadata": {},
   "source": [
    "# Automating websearch for the query term"
   ]
  },
  {
   "cell_type": "markdown",
   "id": "a9a9598f",
   "metadata": {},
   "source": [
    "Using the python file `screenshot_automation.py` for automated screenshot of the query results in Chrome for query term: \"Childhood cancer early diagnosis methods\". selenium.webdriver is used inorder to automate the query and the final screenshot if saved as screenshot.png."
   ]
  },
  {
   "cell_type": "code",
   "execution_count": 1,
   "id": "f0f26e95",
   "metadata": {
    "ExecuteTime": {
     "end_time": "2024-04-12T13:20:51.739694Z",
     "start_time": "2024-04-12T13:19:08.672901Z"
    }
   },
   "outputs": [
    {
     "name": "stdout",
     "output_type": "stream",
     "text": [
      "Enter the folder path to save the screenshots: /Users/abhinapremachandran/PycharmProjects/DSEI2400_Final_Project/Web_Photos\n"
     ]
    }
   ],
   "source": [
    "%run screenshot_automation.py"
   ]
  },
  {
   "cell_type": "markdown",
   "id": "88a85ab2",
   "metadata": {},
   "source": [
    " Now, the obtained screenshot is used to scrape info using pytesseract library "
   ]
  },
  {
   "cell_type": "code",
   "execution_count": 2,
   "id": "bee2a3a1",
   "metadata": {
    "ExecuteTime": {
     "end_time": "2024-04-12T13:21:08.905372Z",
     "start_time": "2024-04-12T13:21:07.001768Z"
    }
   },
   "outputs": [
    {
     "name": "stdout",
     "output_type": "stream",
     "text": [
      "Requirement already satisfied: mysql-connector-python in /Users/abhinapremachandran/anaconda3/lib/python3.11/site-packages (8.3.0)\n",
      "Note: you may need to restart the kernel to use updated packages.\n"
     ]
    }
   ],
   "source": [
    "pip install mysql-connector-python"
   ]
  },
  {
   "cell_type": "code",
   "execution_count": 3,
   "id": "11630bc4",
   "metadata": {
    "ExecuteTime": {
     "end_time": "2024-04-12T13:21:08.910437Z",
     "start_time": "2024-04-12T13:21:08.907191Z"
    }
   },
   "outputs": [],
   "source": [
    "import cv2\n",
    "import pytesseract\n",
    "import matplotlib.pyplot as plt\n",
    "import os\n",
    "import re\n",
    "import pandas as pd\n",
    "import mysql.connector"
   ]
  },
  {
   "cell_type": "code",
   "execution_count": 4,
   "id": "4577af9b",
   "metadata": {
    "ExecuteTime": {
     "end_time": "2024-04-12T13:21:09.073905Z",
     "start_time": "2024-04-12T13:21:09.071085Z"
    }
   },
   "outputs": [],
   "source": [
    "# specify folder where photos are\n",
    "pic_folder = 'Web_Photos'\n",
    "\n",
    "# list all files in the folder\n",
    "pic_names = os.listdir(pic_folder)\n",
    "\n",
    "# specify folder for text\n",
    "text_folder = 'Extracted_Text'"
   ]
  },
  {
   "cell_type": "markdown",
   "id": "e646f5e408ed59c1",
   "metadata": {},
   "source": [
    "## using a gray image of the image files to extract text"
   ]
  },
  {
   "cell_type": "code",
   "execution_count": 5,
   "id": "638dd608e82ec9d7",
   "metadata": {
    "ExecuteTime": {
     "end_time": "2024-04-12T13:21:47.298098Z",
     "start_time": "2024-04-12T13:21:10.403330Z"
    }
   },
   "outputs": [],
   "source": [
    "# need tesseract as environment variable in path\n",
    "for pic_name in pic_names:\n",
    "    image_path = os.path.join(pic_folder, pic_name)\n",
    "    image = cv2.imread(image_path)\n",
    "    gray_image = cv2.cvtColor(image, cv2.COLOR_BGR2GRAY)\n",
    "\n",
    "    # Apply thresholding\n",
    "    _, thresh_image = cv2.threshold(gray_image, 0, 255, cv2.THRESH_BINARY + cv2.THRESH_OTSU)\n",
    "    text = pytesseract.image_to_string(thresh_image)\n",
    "    txt_path = os.path.join(text_folder, pic_name.split('.')[0] + '.txt')\n",
    "    \n",
    "    with open(txt_path, 'w') as text_file:\n",
    "        text_file.write(text)\n",
    "    "
   ]
  },
  {
   "cell_type": "code",
   "execution_count": 6,
   "id": "e3cb423c",
   "metadata": {
    "ExecuteTime": {
     "end_time": "2024-04-12T13:21:47.304190Z",
     "start_time": "2024-04-12T13:21:47.300431Z"
    }
   },
   "outputs": [
    {
     "name": "stdout",
     "output_type": "stream",
     "text": [
      "['yahoo.txt', 'google.txt', 'bing.txt', 'duckgo.txt', 'duckduckgo.txt']\n"
     ]
    }
   ],
   "source": [
    "# list all text files in the folder\n",
    "text_names = os.listdir(text_folder)\n",
    "print(text_names)"
   ]
  },
  {
   "cell_type": "code",
   "execution_count": 7,
   "id": "de2371ee22713c8f",
   "metadata": {
    "ExecuteTime": {
     "end_time": "2024-04-12T13:45:04.445152Z",
     "start_time": "2024-04-12T13:45:04.430700Z"
    }
   },
   "outputs": [],
   "source": [
    "# regex pattern: starts with h, however many letters in between, \":/\", howevermany letters in between up until there is a space\n",
    "url_dict = {}\n",
    "\n",
    "for text_name in text_names:\n",
    "    txt_path = os.path.join(text_folder, text_name.split('.')[0] + '.txt')\n",
    "    \n",
    "    with open(txt_path, 'r') as text_file:\n",
    "        file_contents = text_file.read()\n",
    "\n",
    "        if 'yahoo' in text_name:\n",
    "            urls = re.findall(r'www.[a-zA-Z]*[^\\s]*', file_contents)\n",
    "\n",
    "        else:\n",
    "            urls = re.findall(r'h[a-zA-Z]*:/[^\\s]*', file_contents)\n",
    "        #print(urls)\n",
    "\n",
    "    url_dict[text_name] = urls"
   ]
  },
  {
   "cell_type": "code",
   "execution_count": 8,
   "id": "189ba71231afd6c2",
   "metadata": {
    "ExecuteTime": {
     "end_time": "2024-04-12T13:45:06.292339Z",
     "start_time": "2024-04-12T13:45:06.289346Z"
    }
   },
   "outputs": [
    {
     "name": "stdout",
     "output_type": "stream",
     "text": [
      "yahoo.txt ['www.iccp-portal.org', 'www.paho.org', 'www.ncbi.nim.nih.gov', 'www.nature.com', 'www.thelancet.com', 'www.cancer.org']\n",
      "\n",
      "\n",
      "google.txt ['https://together.stjude.org', 'https:/Awww.cancer.org', 'https:/Awww.cancer.net', 'https:/Awww.ncbi.nim.nih.gov', 'https://iris.paho.org', 'https:/Awww.acco.org', 'https:/Awww.cancercenter.com', 'https:/Awww.ncbi.nim.nih.gov', 'https://my.clevelandclinic.org', 'https://Awww.paho.org', 'https:/Awww.advocatechildrenshospital.com', 'https://Awww.who.int', 'https://obmjopen.bmj.com', 'https:/Awww.cancer.org', 'https:/Awww.yalemedicine.org', 'https://omchealthservres.biomedcentral.com', 'https:/Awww.cancer.gov', 'https:/Awww.choc.org']\n",
      "\n",
      "\n",
      "bing.txt ['https:/Avww.nyp.org/pediatrics', 'https:/Avww.texaschildrens.org/cancer/treatment', 'https:/Avww.mskcc.org/cancer-care/experts', 'https:/Avww.azioinpractice.com', 'https:/Avww.ncbi.nim.nih.gov/pme/articles/PMC7584', 'https:/Avww.ncbi.nim.nih.gov/pme/articles/PMC8651632', 'https:/Avww.iccp-portal.org/resources/early...', 'https:/Avww.envita.com/cancertreatment/oncology', 'https:/Avww.aarp.org/cancernews/reducingcancer', 'https:/Avww.nyp.org/pediatrics', 'https:/Avww.texaschildrens.org/cancer/treatment']\n",
      "\n",
      "\n",
      "duckgo.txt ['hups:/pubmed.ncbi.nim.nih.gov']\n",
      "\n",
      "\n",
      "duckduckgo.txt ['https://www.iccp-portal.org', 'https://www.paho.org', 'https://www.cancer.org', 'https://iris.paho.org', 'https://www.thelancet.com', 'hittps://www.nature.com', 'https:/Awww.who.int', 'https://iris.paho.org', 'https:/Awww.ncbi.nim.nih.gov', 'https://www.cancer.org', 'https://pubmed.ncbi.nim.nih.gov', 'https://bmchealthservres.biomedcentral.com', 'https://link.springer.com', 'hitps://together.stjude.org', 'https:/Awww.ncbi.nim.nih.gov', 'hitps://www.nature.com', 'https://www.researchgate.net', 'https:/Awww.ncbi.nim.nih.gov', 'https://www.mdpi.com', 'https://journals.sagepub.com', 'https://bmjopen.bmj.com', 'https:/Awww.ncbi.nim.nih.gov', 'https://www.sciencedaily.com', 'https://jeccr.biomedcentral.com', 'https://link.springer.com', 'https:/Awww.ncbi.nim.nih.gov']\n",
      "\n",
      "\n"
     ]
    }
   ],
   "source": [
    "\n",
    "for key, value in url_dict.items():\n",
    "    print(key, value)\n",
    "    print(\"\\n\")"
   ]
  },
  {
   "cell_type": "code",
   "execution_count": 9,
   "id": "87f49dab5a3fe7d5",
   "metadata": {
    "ExecuteTime": {
     "end_time": "2024-04-12T13:45:07.624438Z",
     "start_time": "2024-04-12T13:45:07.604065Z"
    }
   },
   "outputs": [
    {
     "name": "stdout",
     "output_type": "stream",
     "text": [
      "yahoo.txt ['www.iccp-portal.org', 'www.paho.org', 'www.ncbi.nim.nih.gov', 'www.nature.com', 'www.thelancet.com', 'www.cancer.org']\n",
      "\n",
      "\n",
      "google.txt ['https://together.stjude.org', 'https://www.cancer.org', 'https://www.cancer.net', 'https://www.ncbi.nim.nih.gov', 'https://iris.paho.org', 'https://www.acco.org', 'https://www.cancercenter.com', 'https://www.ncbi.nim.nih.gov', 'https://my.clevelandclinic.org', 'https://Awww.paho.org', 'https://www.advocatechildrenshospital.com', 'https://Awww.who.int', 'https://obmjopen.bmj.com', 'https://www.cancer.org', 'https://www.yalemedicine.org', 'https://omchealthservres.biomedcentral.com', 'https://www.cancer.gov', 'https://www.choc.org']\n",
      "\n",
      "\n",
      "bing.txt ['https://www.nyp.org/pediatrics', 'https://www.texaschildrens.org/cancer/treatment', 'https://www.mskcc.org/cancer-care/experts', 'https://www.azioinpractice.com', 'https://www.ncbi.nim.nih.gov/pme/articles/PMC7584', 'https://www.ncbi.nim.nih.gov/pme/articles/PMC8651632', 'https://www.iccp-portal.org/resources/early...', 'https://www.envita.com/cancertreatment/oncology', 'https://www.aarp.org/cancernews/reducingcancer', 'https://www.nyp.org/pediatrics', 'https://www.texaschildrens.org/cancer/treatment']\n",
      "\n",
      "\n",
      "duckgo.txt ['https:/pubmed.ncbi.nim.nih.gov']\n",
      "\n",
      "\n",
      "duckduckgo.txt ['https://www.iccp-portal.org', 'https://www.paho.org', 'https://www.cancer.org', 'https://iris.paho.org', 'https://www.thelancet.com', 'https://www.nature.com', 'https://www.who.int', 'https://iris.paho.org', 'https://www.ncbi.nim.nih.gov', 'https://www.cancer.org', 'https://pubmed.ncbi.nim.nih.gov', 'https://bmchealthservres.biomedcentral.com', 'https://link.springer.com', 'https://together.stjude.org', 'https://www.ncbi.nim.nih.gov', 'https://www.nature.com', 'https://www.researchgate.net', 'https://www.ncbi.nim.nih.gov', 'https://www.mdpi.com', 'https://journals.sagepub.com', 'https://bmjopen.bmj.com', 'https://www.ncbi.nim.nih.gov', 'https://www.sciencedaily.com', 'https://jeccr.biomedcentral.com', 'https://link.springer.com', 'https://www.ncbi.nim.nih.gov']\n",
      "\n",
      "\n"
     ]
    }
   ],
   "source": [
    "for k, v in url_dict.items():\n",
    "    for i in range(len(v)):\n",
    "        v[i] = re.sub(r'^h[a-z]*:', 'https:', v[i])\n",
    "        v[i] = re.sub(r':/A\\w\\w\\w\\.', '://www.', v[i])\n",
    "\n",
    "\n",
    "for key, value in url_dict.items():\n",
    "    print(key, value)\n",
    "    print(\"\\n\")"
   ]
  },
  {
   "cell_type": "code",
   "execution_count": 10,
   "id": "4125452cc1a4e98d",
   "metadata": {
    "ExecuteTime": {
     "end_time": "2024-04-12T13:21:47.329269Z",
     "start_time": "2024-04-12T13:21:47.318013Z"
    }
   },
   "outputs": [],
   "source": [
    "# create an empty df similar to database \"search\" table\n",
    "\n",
    "df_search = pd.DataFrame(columns=[\"search_term\", \"search_output\", \"url_results\", \"term_in_url\"])\n"
   ]
  },
  {
   "cell_type": "code",
   "execution_count": 11,
   "id": "74dafd0f52560441",
   "metadata": {
    "ExecuteTime": {
     "end_time": "2024-04-12T12:51:31.199030Z",
     "start_time": "2024-04-12T12:51:31.176703Z"
    }
   },
   "outputs": [
    {
     "data": {
      "text/html": [
       "<div>\n",
       "<style scoped>\n",
       "    .dataframe tbody tr th:only-of-type {\n",
       "        vertical-align: middle;\n",
       "    }\n",
       "\n",
       "    .dataframe tbody tr th {\n",
       "        vertical-align: top;\n",
       "    }\n",
       "\n",
       "    .dataframe thead th {\n",
       "        text-align: right;\n",
       "    }\n",
       "</style>\n",
       "<table border=\"1\" class=\"dataframe\">\n",
       "  <thead>\n",
       "    <tr style=\"text-align: right;\">\n",
       "      <th></th>\n",
       "      <th>search_term</th>\n",
       "      <th>search_output</th>\n",
       "      <th>url_results</th>\n",
       "      <th>term_in_url</th>\n",
       "    </tr>\n",
       "  </thead>\n",
       "  <tbody>\n",
       "  </tbody>\n",
       "</table>\n",
       "</div>"
      ],
      "text/plain": [
       "Empty DataFrame\n",
       "Columns: [search_term, search_output, url_results, term_in_url]\n",
       "Index: []"
      ]
     },
     "execution_count": 11,
     "metadata": {},
     "output_type": "execute_result"
    }
   ],
   "source": [
    "df_search.head()"
   ]
  },
  {
   "cell_type": "markdown",
   "id": "a563ab51bd36dfe6",
   "metadata": {},
   "source": [
    "\n",
    "Add the frequency search term count to dataframe."
   ]
  },
  {
   "cell_type": "code",
   "execution_count": 12,
   "id": "744205c8bce80f42",
   "metadata": {},
   "outputs": [],
   "source": [
    "# add dictionary of urls into data frame\n"
   ]
  },
  {
   "cell_type": "markdown",
   "id": "b66d4dcb8c1ecc29",
   "metadata": {},
   "source": [
    "Count the frequency of each search term in the URL"
   ]
  },
  {
   "cell_type": "code",
   "execution_count": null,
   "id": "50e1c42a06eed5cd",
   "metadata": {},
   "outputs": [],
   "source": []
  },
  {
   "cell_type": "code",
   "execution_count": null,
   "id": "26f4f60dd0c4c7ed",
   "metadata": {},
   "outputs": [],
   "source": []
  },
  {
   "cell_type": "markdown",
   "id": "60bb37cc27cc8e40",
   "metadata": {},
   "source": []
  },
  {
   "cell_type": "code",
   "execution_count": null,
   "id": "7270d023be037ed3",
   "metadata": {},
   "outputs": [],
   "source": []
  },
  {
   "cell_type": "markdown",
   "id": "d1076c9000c480fb",
   "metadata": {},
   "source": [
    "Connecting to the Mysql database"
   ]
  },
  {
   "cell_type": "code",
   "execution_count": 13,
   "id": "17921497",
   "metadata": {
    "ExecuteTime": {
     "end_time": "2024-04-12T04:42:29.966384Z",
     "start_time": "2024-04-12T04:42:17.272565Z"
    }
   },
   "outputs": [
    {
     "name": "stdout",
     "output_type": "stream",
     "text": [
      "Enter your database username: root\n",
      "Enter your database password: Astro2498!\n",
      "<mysql.connector.connection_cext.CMySQLConnection object at 0x1761e6110>\n"
     ]
    }
   ],
   "source": [
    "import mysql.connector\n",
    "\n",
    "mydb = mysql.connector.connect(\n",
    "  host=\"localhost\",\n",
    "  user=input(\"Enter your database username: \"),\n",
    "  password=input(\"Enter your database password: \")\n",
    ")\n",
    "\n",
    "print(mydb)"
   ]
  },
  {
   "cell_type": "code",
   "execution_count": null,
   "id": "133979741932be0a",
   "metadata": {},
   "outputs": [],
   "source": []
  },
  {
   "cell_type": "code",
   "execution_count": null,
   "id": "fcdbe73c",
   "metadata": {},
   "outputs": [],
   "source": []
  },
  {
   "cell_type": "code",
   "execution_count": null,
   "id": "0e25a413",
   "metadata": {},
   "outputs": [],
   "source": []
  }
 ],
 "metadata": {
  "kernelspec": {
   "display_name": "Python 3 (ipykernel)",
   "language": "python",
   "name": "python3"
  },
  "language_info": {
   "codemirror_mode": {
    "name": "ipython",
    "version": 3
   },
   "file_extension": ".py",
   "mimetype": "text/x-python",
   "name": "python",
   "nbconvert_exporter": "python",
   "pygments_lexer": "ipython3",
   "version": "3.11.5"
  }
 },
 "nbformat": 4,
 "nbformat_minor": 5
}
