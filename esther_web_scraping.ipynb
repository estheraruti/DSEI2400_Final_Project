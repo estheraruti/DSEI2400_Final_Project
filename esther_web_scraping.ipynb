{
 "cells": [
  {
   "cell_type": "markdown",
   "id": "6b3ddfa4",
   "metadata": {},
   "source": [
    "# Automating websearch for the query term"
   ]
  },
  {
   "cell_type": "markdown",
   "id": "a9a9598f",
   "metadata": {},
   "source": [
    "Using the python file `screenshot_automation.py` for automated screenshot of the query results in Chrome for query term: \"Childhood cancer early diagnosis methods\". selenium.webdriver is used inorder to automate the query and the final screenshot if saved as screenshot.png."
   ]
  },
  {
   "cell_type": "code",
   "execution_count": 1,
   "id": "f0f26e95",
   "metadata": {
    "ExecuteTime": {
     "end_time": "2024-04-12T13:20:51.739694Z",
     "start_time": "2024-04-12T13:19:08.672901Z"
    }
   },
   "outputs": [],
   "source": [
    "%run screenshot_automation.py"
   ]
  },
  {
   "cell_type": "markdown",
   "id": "88a85ab2",
   "metadata": {},
   "source": [
    " Now, the obtained screenshot is used to scrape info using pytesseract library "
   ]
  },
  {
   "cell_type": "code",
   "execution_count": 2,
   "id": "bee2a3a1",
   "metadata": {
    "ExecuteTime": {
     "end_time": "2024-04-12T13:21:08.905372Z",
     "start_time": "2024-04-12T13:21:07.001768Z"
    }
   },
   "outputs": [],
   "source": [
    "#pip install mysql-connector-python"
   ]
  },
  {
   "cell_type": "code",
   "execution_count": 3,
   "id": "11630bc4",
   "metadata": {
    "ExecuteTime": {
     "end_time": "2024-04-12T13:21:08.910437Z",
     "start_time": "2024-04-12T13:21:08.907191Z"
    }
   },
   "outputs": [],
   "source": [
    "import cv2\n",
    "import pytesseract\n",
    "import matplotlib.pyplot as plt\n",
    "import os\n",
    "import re\n",
    "import pandas as pd\n",
    "import mysql.connector"
   ]
  },
  {
   "cell_type": "code",
   "execution_count": 4,
   "id": "4577af9b",
   "metadata": {
    "ExecuteTime": {
     "end_time": "2024-04-12T13:21:09.073905Z",
     "start_time": "2024-04-12T13:21:09.071085Z"
    }
   },
   "outputs": [],
   "source": [
    "# specify folder where photos are\n",
    "pic_folder = 'Web_Photos'\n",
    "\n",
    "# list all files in the folder\n",
    "pic_names = os.listdir(pic_folder)\n",
    "\n",
    "# specify folder for text\n",
    "text_folder = 'Extracted_Text'"
   ]
  },
  {
   "cell_type": "markdown",
   "id": "e646f5e408ed59c1",
   "metadata": {
    "collapsed": false
   },
   "source": [
    "### Extracting Text From Picture and Adding it to Text File"
   ]
  },
  {
   "cell_type": "code",
   "execution_count": 5,
   "id": "638dd608e82ec9d7",
   "metadata": {
    "ExecuteTime": {
     "end_time": "2024-04-12T13:21:47.298098Z",
     "start_time": "2024-04-12T13:21:10.403330Z"
    },
    "collapsed": false
   },
   "outputs": [],
   "source": [
    "# need tesseract as environment variable in path before running this\n",
    "\n",
    "for pic_name in pic_names:\n",
    "    image_path = os.path.join(pic_folder, pic_name)\n",
    "    # read in image\n",
    "    image = cv2.imread(image_path)\n",
    "\n",
    "    # turning image into grayscale\n",
    "    #gray_image = cv2.cvtColor(image, cv2.COLOR_BGR2GRAY)\n",
    "\n",
    "    '''\n",
    "    # Apply thresholding\n",
    "    _, thresh_image = cv2.threshold(gray_image, 0, 255, cv2.THRESH_BINARY + cv2.THRESH_OTSU)\n",
    "    '''\n",
    "    # extract text from image\n",
    "    text = pytesseract.image_to_string(image)\n",
    "    txt_path = os.path.join(text_folder, pic_name.split('.')[0] + '.txt')\n",
    "    \n",
    "    with open(txt_path, 'w') as text_file:\n",
    "        text_file.write(text)\n",
    "    "
   ]
  },
  {
   "cell_type": "code",
   "execution_count": 6,
   "id": "e3cb423c",
   "metadata": {
    "ExecuteTime": {
     "end_time": "2024-04-12T13:21:47.304190Z",
     "start_time": "2024-04-12T13:21:47.300431Z"
    }
   },
   "outputs": [
    {
     "name": "stdout",
     "output_type": "stream",
     "text": [
      "['bing.txt', 'duckduckgo.txt', 'google.txt', 'yahoo.txt']\n"
     ]
    }
   ],
   "source": [
    "# list all text files in the folder\n",
    "text_names = os.listdir(text_folder)\n",
    "print(text_names)"
   ]
  },
  {
   "cell_type": "markdown",
   "id": "3c64c3c2",
   "metadata": {},
   "source": [
    "### Finding all URLs from each search engine and adding them to a dictionary."
   ]
  },
  {
   "cell_type": "code",
   "execution_count": 7,
   "id": "de2371ee22713c8f",
   "metadata": {
    "ExecuteTime": {
     "end_time": "2024-04-12T13:45:04.445152Z",
     "start_time": "2024-04-12T13:45:04.430700Z"
    },
    "collapsed": false
   },
   "outputs": [],
   "source": [
    "# regex pattern: starts with h, however many letters in between, \":/\", howevermany letters in between up until there is a space\n",
    "url_dict = {}\n",
    "\n",
    "for text_name in text_names:\n",
    "    txt_path = os.path.join(text_folder, text_name.split('.')[0] + '.txt')\n",
    "    \n",
    "    with open(txt_path, 'r') as text_file:\n",
    "        file_contents = text_file.read()\n",
    "\n",
    "        if 'yahoo' in text_name:\n",
    "            urls = re.findall(r'www.[a-zA-Z]*[^\\s]*', file_contents)\n",
    "\n",
    "        else:\n",
    "            urls = re.findall(r'h[a-zA-Z]*:/[^\\s]*', file_contents)\n",
    "        #print(urls)\n",
    "\n",
    "    url_dict[text_name] = urls"
   ]
  },
  {
   "cell_type": "code",
   "execution_count": 8,
   "id": "189ba71231afd6c2",
   "metadata": {
    "ExecuteTime": {
     "end_time": "2024-04-12T13:45:06.292339Z",
     "start_time": "2024-04-12T13:45:06.289346Z"
    },
    "collapsed": false
   },
   "outputs": [
    {
     "name": "stdout",
     "output_type": "stream",
     "text": [
      "bing.txt ['https:/www.nyp.orgipediatrics', 'https:/Awww', 'https:/Awww.ncbi.nim.nih.gov/pmc/articles/PMC', 'https:/www.mskcc.org/cancer-care/experts', 'https:/www.texaschildrens.org/canceritreatment', 'https://cancer.montefioreeinstein.org/chiara_story/cancer', 'https:/www.nyp.orgipediatrics']\n",
      "\n",
      "\n",
      "duckduckgo.txt ['hitps://www.iccp-portal.org', 'hups:/www.cancerorg', 'heps:/www.nebinim.nih.gov', 'https:/www.uptodate.com', 'hutps:/pmchealthservres.biomedcentral.com', 'hutps://www.paho.org', 'https://www.nature.com', 'hups://iris', 'hups://iris', 'hutps:/www.cancerorg', 'hutps:/www.2afp.org', 'hutps://qa.cancerorg', 'hutps://pubmed.ncbi.nim.nih.gov', 'heps:/www.nebi.nim.nih.gov', 'hups://www.researchgate.net', 'hups:/www.ncbi.nim.nih.gov', 'hitps://journals.', 'https:/bmjopen.bmj.com', 'hups://pubmed.ncbi.nim.nih.gov', 'https://www.ncbinim.nih.gov', 'hutps:/jeccrbiomedcentral.com', 'hups://ink.springer.com']\n",
      "\n",
      "\n",
      "google.txt ['https:/together.stjude.org', 'hitps:/iwwnv.cancercenter.com', 'hitps:/ipubmed.nebi.nim', 'hitps:/iwww-paho', 'hiios:/nwwnv.advocatechildrenshospital.com', 'hittps:/www.who.int', 'hitps:/omjopen.bmj.com', 'https:/Avww.yalemedicine.org', 'hitps:/bmcheatthservres.biomedcentral.com', 'https:/Awww.cancer.gov', 'https:/www.stjude.org']\n",
      "\n",
      "\n",
      "yahoo.txt ['www.icep-portal.org', 'www.nebi.nim.nih.gov', 'www_paho.org', 'www.nature.com', 'www:thelancet.com', 'www.cancer.org']\n",
      "\n",
      "\n"
     ]
    }
   ],
   "source": [
    "# viewing the dictionary\n",
    "for key, value in url_dict.items():\n",
    "    print(key, value)\n",
    "    print(\"\\n\")"
   ]
  },
  {
   "cell_type": "markdown",
   "id": "9bd365a3",
   "metadata": {},
   "source": [
    "### Cleaning up the incorrectly spelled URLs."
   ]
  },
  {
   "cell_type": "code",
   "execution_count": 9,
   "id": "87f49dab5a3fe7d5",
   "metadata": {
    "ExecuteTime": {
     "end_time": "2024-04-12T13:45:07.624438Z",
     "start_time": "2024-04-12T13:45:07.604065Z"
    },
    "collapsed": false
   },
   "outputs": [
    {
     "name": "stdout",
     "output_type": "stream",
     "text": [
      "bing.txt ['https:/www.nyp.orgipediatrics', 'https:/Awww', 'https://www.ncbi.nim.nih.gov/pmc/articles/PMC', 'https:/www.mskcc.org/cancer-care/experts', 'https:/www.texaschildrens.org/canceritreatment', 'https://cancer.montefioreeinstein.org/chiara_story/cancer', 'https:/www.nyp.orgipediatrics']\n",
      "\n",
      "\n",
      "duckduckgo.txt ['https://www.iccp-portal.org', 'https:/www.cancerorg', 'https:/www.nebinim.nih.gov', 'https:/www.uptodate.com', 'https:/pmchealthservres.biomedcentral.com', 'https://www.paho.org', 'https://www.nature.com', 'https://iris', 'https://iris', 'https:/www.cancerorg', 'https:/www.2afp.org', 'https://qa.cancerorg', 'https://pubmed.ncbi.nim.nih.gov', 'https:/www.nebi.nim.nih.gov', 'https://www.researchgate.net', 'https:/www.ncbi.nim.nih.gov', 'https://journals.', 'https:/bmjopen.bmj.com', 'https://pubmed.ncbi.nim.nih.gov', 'https://www.ncbinim.nih.gov', 'https:/jeccrbiomedcentral.com', 'https://ink.springer.com']\n",
      "\n",
      "\n",
      "google.txt ['https:/together.stjude.org', 'https:/iwwnv.cancercenter.com', 'https:/ipubmed.nebi.nim', 'https:/iwww-paho', 'https:/nwwnv.advocatechildrenshospital.com', 'https:/www.who.int', 'https:/omjopen.bmj.com', 'https://www.yalemedicine.org', 'https:/bmcheatthservres.biomedcentral.com', 'https://www.cancer.gov', 'https:/www.stjude.org']\n",
      "\n",
      "\n",
      "yahoo.txt ['www.icep-portal.org', 'www.nebi.nim.nih.gov', 'www_paho.org', 'www.nature.com', 'www:thelancet.com', 'www.cancer.org']\n",
      "\n",
      "\n"
     ]
    }
   ],
   "source": [
    "# cleaning up the URLs\n",
    "for k, v in url_dict.items():\n",
    "    for i in range(len(v)):\n",
    "        v[i] = re.sub(r'^h[a-z]*:', 'https:', v[i])\n",
    "        v[i] = re.sub(r':/A\\w\\w\\w\\.', '://www.', v[i])\n",
    "\n",
    "\n",
    "# viewing them\n",
    "for key, value in url_dict.items():\n",
    "    print(key, value)\n",
    "    print(\"\\n\")"
   ]
  },
  {
   "cell_type": "markdown",
   "id": "ae49fc4d",
   "metadata": {},
   "source": [
    "### Run the separating URLs .py file to create a Data Frame similar to the MySQL table"
   ]
  },
  {
   "cell_type": "code",
   "execution_count": 15,
   "id": "dab2b274",
   "metadata": {},
   "outputs": [],
   "source": [
    "from separating_urls import separate_url\n",
    "df_search = separate_url(url_dict)"
   ]
  },
  {
   "cell_type": "code",
   "execution_count": 20,
   "id": "481787a5",
   "metadata": {},
   "outputs": [
    {
     "data": {
      "text/html": [
       "<div>\n",
       "<style scoped>\n",
       "    .dataframe tbody tr th:only-of-type {\n",
       "        vertical-align: middle;\n",
       "    }\n",
       "\n",
       "    .dataframe tbody tr th {\n",
       "        vertical-align: top;\n",
       "    }\n",
       "\n",
       "    .dataframe thead th {\n",
       "        text-align: right;\n",
       "    }\n",
       "</style>\n",
       "<table border=\"1\" class=\"dataframe\">\n",
       "  <thead>\n",
       "    <tr style=\"text-align: right;\">\n",
       "      <th></th>\n",
       "      <th>search_engine</th>\n",
       "      <th>urls</th>\n",
       "    </tr>\n",
       "  </thead>\n",
       "  <tbody>\n",
       "    <tr>\n",
       "      <th>0</th>\n",
       "      <td>bing.txt</td>\n",
       "      <td>https:/www.nyp.orgipediatrics</td>\n",
       "    </tr>\n",
       "    <tr>\n",
       "      <th>1</th>\n",
       "      <td>bing.txt</td>\n",
       "      <td>https:/Awww</td>\n",
       "    </tr>\n",
       "    <tr>\n",
       "      <th>2</th>\n",
       "      <td>bing.txt</td>\n",
       "      <td>https://www.ncbi.nim.nih.gov/pmc/articles/PMC</td>\n",
       "    </tr>\n",
       "    <tr>\n",
       "      <th>3</th>\n",
       "      <td>bing.txt</td>\n",
       "      <td>https:/www.mskcc.org/cancer-care/experts</td>\n",
       "    </tr>\n",
       "    <tr>\n",
       "      <th>4</th>\n",
       "      <td>bing.txt</td>\n",
       "      <td>https:/www.texaschildrens.org/canceritreatment</td>\n",
       "    </tr>\n",
       "    <tr>\n",
       "      <th>5</th>\n",
       "      <td>bing.txt</td>\n",
       "      <td>https://cancer.montefioreeinstein.org/chiara_s...</td>\n",
       "    </tr>\n",
       "    <tr>\n",
       "      <th>6</th>\n",
       "      <td>bing.txt</td>\n",
       "      <td>https:/www.nyp.orgipediatrics</td>\n",
       "    </tr>\n",
       "    <tr>\n",
       "      <th>7</th>\n",
       "      <td>duckduckgo.txt</td>\n",
       "      <td>https://www.iccp-portal.org</td>\n",
       "    </tr>\n",
       "    <tr>\n",
       "      <th>8</th>\n",
       "      <td>duckduckgo.txt</td>\n",
       "      <td>https:/www.cancerorg</td>\n",
       "    </tr>\n",
       "    <tr>\n",
       "      <th>9</th>\n",
       "      <td>duckduckgo.txt</td>\n",
       "      <td>https:/www.nebinim.nih.gov</td>\n",
       "    </tr>\n",
       "  </tbody>\n",
       "</table>\n",
       "</div>"
      ],
      "text/plain": [
       "    search_engine                                               urls\n",
       "0        bing.txt                      https:/www.nyp.orgipediatrics\n",
       "1        bing.txt                                        https:/Awww\n",
       "2        bing.txt      https://www.ncbi.nim.nih.gov/pmc/articles/PMC\n",
       "3        bing.txt           https:/www.mskcc.org/cancer-care/experts\n",
       "4        bing.txt     https:/www.texaschildrens.org/canceritreatment\n",
       "5        bing.txt  https://cancer.montefioreeinstein.org/chiara_s...\n",
       "6        bing.txt                      https:/www.nyp.orgipediatrics\n",
       "7  duckduckgo.txt                        https://www.iccp-portal.org\n",
       "8  duckduckgo.txt                               https:/www.cancerorg\n",
       "9  duckduckgo.txt                         https:/www.nebinim.nih.gov"
      ]
     },
     "execution_count": 20,
     "metadata": {},
     "output_type": "execute_result"
    }
   ],
   "source": [
    "# checking if the .py file ran correctly\n",
    "df_search.head(10)"
   ]
  },
  {
   "cell_type": "code",
   "execution_count": 19,
   "id": "e4bebdd2",
   "metadata": {},
   "outputs": [
    {
     "data": {
      "text/plain": [
       "(46, 2)"
      ]
     },
     "execution_count": 19,
     "metadata": {},
     "output_type": "execute_result"
    }
   ],
   "source": [
    "df_search.shape"
   ]
  },
  {
   "cell_type": "code",
   "execution_count": null,
   "id": "4125452cc1a4e98d",
   "metadata": {
    "ExecuteTime": {
     "end_time": "2024-04-12T13:21:47.329269Z",
     "start_time": "2024-04-12T13:21:47.318013Z"
    },
    "collapsed": false
   },
   "outputs": [],
   "source": [
    "# create an empty df similar to database \"search\" table\n",
    "\n",
    "df_search = pd.DataFrame(columns=[\"search_term\", \"search_output\", \"url_results\", \"term_in_url\"])\n"
   ]
  },
  {
   "cell_type": "code",
   "execution_count": null,
   "id": "74dafd0f52560441",
   "metadata": {
    "ExecuteTime": {
     "end_time": "2024-04-12T12:51:31.199030Z",
     "start_time": "2024-04-12T12:51:31.176703Z"
    },
    "collapsed": false
   },
   "outputs": [
    {
     "data": {
      "text/html": [
       "<div>\n",
       "<style scoped>\n",
       "    .dataframe tbody tr th:only-of-type {\n",
       "        vertical-align: middle;\n",
       "    }\n",
       "\n",
       "    .dataframe tbody tr th {\n",
       "        vertical-align: top;\n",
       "    }\n",
       "\n",
       "    .dataframe thead th {\n",
       "        text-align: right;\n",
       "    }\n",
       "</style>\n",
       "<table border=\"1\" class=\"dataframe\">\n",
       "  <thead>\n",
       "    <tr style=\"text-align: right;\">\n",
       "      <th></th>\n",
       "      <th>search_term</th>\n",
       "      <th>search_output</th>\n",
       "      <th>url_results</th>\n",
       "      <th>term_in_url</th>\n",
       "    </tr>\n",
       "  </thead>\n",
       "  <tbody>\n",
       "  </tbody>\n",
       "</table>\n",
       "</div>"
      ],
      "text/plain": [
       "Empty DataFrame\n",
       "Columns: [search_term, search_output, url_results, term_in_url]\n",
       "Index: []"
      ]
     },
     "execution_count": 13,
     "metadata": {},
     "output_type": "execute_result"
    }
   ],
   "source": [
    "df_search.head()"
   ]
  },
  {
   "cell_type": "markdown",
   "id": "a563ab51bd36dfe6",
   "metadata": {
    "collapsed": false
   },
   "source": [
    "\n",
    "Add the frequency search term count to dataframe."
   ]
  },
  {
   "cell_type": "code",
   "execution_count": null,
   "id": "744205c8bce80f42",
   "metadata": {
    "collapsed": false
   },
   "outputs": [],
   "source": [
    "# add dictionary of urls into data frame\n"
   ]
  },
  {
   "cell_type": "markdown",
   "id": "b66d4dcb8c1ecc29",
   "metadata": {
    "collapsed": false
   },
   "source": [
    "Count the frequency of each search term in the URL"
   ]
  },
  {
   "cell_type": "code",
   "execution_count": null,
   "id": "50e1c42a06eed5cd",
   "metadata": {
    "collapsed": false
   },
   "outputs": [],
   "source": []
  },
  {
   "cell_type": "code",
   "execution_count": null,
   "id": "26f4f60dd0c4c7ed",
   "metadata": {
    "collapsed": false
   },
   "outputs": [],
   "source": []
  },
  {
   "cell_type": "markdown",
   "id": "60bb37cc27cc8e40",
   "metadata": {
    "collapsed": false
   },
   "source": []
  },
  {
   "cell_type": "code",
   "execution_count": null,
   "id": "7270d023be037ed3",
   "metadata": {
    "collapsed": false
   },
   "outputs": [],
   "source": []
  },
  {
   "cell_type": "markdown",
   "id": "d1076c9000c480fb",
   "metadata": {
    "collapsed": false
   },
   "source": [
    "Connecting to the Mysql database"
   ]
  },
  {
   "cell_type": "code",
   "execution_count": null,
   "id": "17921497",
   "metadata": {
    "ExecuteTime": {
     "end_time": "2024-04-12T04:42:29.966384Z",
     "start_time": "2024-04-12T04:42:17.272565Z"
    }
   },
   "outputs": [
    {
     "name": "stdout",
     "output_type": "stream",
     "text": [
      "<mysql.connector.connection_cext.CMySQLConnection object at 0x1525cf590>\n"
     ]
    }
   ],
   "source": [
    "import mysql.connector\n",
    "\n",
    "mydb = mysql.connector.connect(\n",
    "  host=\"localhost\",\n",
    "  user=input(\"Enter your database username: \"),\n",
    "  password=input(\"Enter your database password: \")\n",
    ")\n",
    "\n",
    "print(mydb)"
   ]
  },
  {
   "cell_type": "code",
   "execution_count": null,
   "id": "133979741932be0a",
   "metadata": {
    "collapsed": false
   },
   "outputs": [],
   "source": []
  },
  {
   "cell_type": "code",
   "execution_count": null,
   "id": "fcdbe73c",
   "metadata": {},
   "outputs": [],
   "source": []
  }
 ],
 "metadata": {
  "kernelspec": {
   "display_name": "Python 3 (ipykernel)",
   "language": "python",
   "name": "python3"
  },
  "language_info": {
   "codemirror_mode": {
    "name": "ipython",
    "version": 3
   },
   "file_extension": ".py",
   "mimetype": "text/x-python",
   "name": "python",
   "nbconvert_exporter": "python",
   "pygments_lexer": "ipython3",
   "version": "3.10.11"
  }
 },
 "nbformat": 4,
 "nbformat_minor": 5
}
